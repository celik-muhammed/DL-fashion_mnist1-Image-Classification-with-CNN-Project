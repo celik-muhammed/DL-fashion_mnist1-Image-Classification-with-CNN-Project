{
  "cells": [
    {
      "cell_type": "markdown",
      "metadata": {
        "id": "lTEZFuH19aOL"
      },
      "source": [
        "___\n",
        "\n",
        "<p style=\"text-align: center;\"><img src=\"https://docs.google.com/uc?id=1lY0Uj5R04yMY3-ZppPWxqCr5pvBLYPnV\" class=\"img-fluid\" alt=\"CLRSWY\"></p>\n",
        "\n",
        "___"
      ]
    },
    {
      "cell_type": "markdown",
      "metadata": {
        "id": "ougoI0Nv9aOS"
      },
      "source": [
        "<h1 style=\"text-align: center;\">Deep Learning<br><br>Assignment-2 (CNN)<br><br>Image Classification with CNN<br><h1>"
      ]
    },
    {
      "cell_type": "markdown",
      "metadata": {
        "id": "qwD8-pDY9aOT"
      },
      "source": [
        "# Task and Dataset Info\n",
        "\n",
        "Welcome to second assignment of Deep learning lesson. Follow the instructions and complete the assignment.\n",
        "\n",
        "**Build an image classifier with Convolutional Neural Networks for the Fashion MNIST dataset. This data set includes 10 labels of different clothing types with 28 by 28 *grayscale* images. There is a training set of 60,000 images and 10,000 test images.**\n",
        "\n",
        "    Label\tDescription\n",
        "    0\t    T-shirt/top\n",
        "    1\t    Trouser\n",
        "    2\t    Pullover\n",
        "    3\t    Dress\n",
        "    4\t    Coat\n",
        "    5\t    Sandal\n",
        "    6\t    Shirt\n",
        "    7\t    Sneaker\n",
        "    8\t    Bag\n",
        "    9\t    Ankle boot"
      ]
    },
    {
      "cell_type": "markdown",
      "metadata": {
        "id": "Poag325B9aOU"
      },
      "source": [
        "# Import Libraries"
      ]
    },
    {
      "attachments": {},
      "cell_type": "markdown",
      "metadata": {
        "id": "i8_ulAIbRypF"
      },
      "source": [
        "## colab Package Update\n",
        "\n",
        "⚠️ **need to restart**"
      ]
    },
    {
      "cell_type": "code",
      "execution_count": 1,
      "metadata": {
        "id": "-TCopo9aR3k9"
      },
      "outputs": [],
      "source": [
        "# !pip install -Uq scikeras[tensorflow] # Causes tensorflow to update.\n",
        "!pip install -Uq matplotlib  matplotlib-dashboard seaborn scikit-plot tensorflow-addons==0.19.0 "
      ]
    },
    {
      "attachments": {},
      "cell_type": "markdown",
      "metadata": {},
      "source": [
        "- https://github.com/tensorflow/addons#python-op-compatibility-matrix"
      ]
    },
    {
      "attachments": {},
      "cell_type": "markdown",
      "metadata": {
        "id": "lFPOuClnR0jT"
      },
      "source": [
        "# Import Libraries"
      ]
    },
    {
      "attachments": {},
      "cell_type": "markdown",
      "metadata": {},
      "source": [
        "## Colab-only auth for this notebook and the TPU"
      ]
    },
    {
      "cell_type": "code",
      "execution_count": null,
      "metadata": {},
      "outputs": [],
      "source": [
        "import os\n",
        "IS_COLAB_BACKEND = 'COLAB_GPU' in os.environ  # this is always set on Colab, the value is 0 or 1 depending on GPU presence\n",
        "if IS_COLAB_BACKEND:\n",
        "    from google.colab import auth\n",
        "    # Authenticates the Colab machine and also the TPU using your\n",
        "    # credentials so that they can access your private GCS buckets.\n",
        "    auth.authenticate_user()"
      ]
    },
    {
      "cell_type": "code",
      "execution_count": null,
      "metadata": {},
      "outputs": [],
      "source": [
        "# from google.colab import files\n",
        "# uploaded = files.upload()"
      ]
    },
    {
      "cell_type": "code",
      "execution_count": null,
      "metadata": {},
      "outputs": [],
      "source": [
        "# from google.colab import drive\n",
        "# drive.mount('/content/drive')"
      ]
    },
    {
      "attachments": {},
      "cell_type": "markdown",
      "metadata": {},
      "source": [
        "## TPU or GPU detection"
      ]
    },
    {
      "cell_type": "code",
      "execution_count": null,
      "metadata": {
        "colab": {
          "base_uri": "https://localhost:8080/"
        },
        "id": "gglWf77ISHqh",
        "outputId": "c5e040a3-93e4-42d7-cdc6-af0a758d2eab"
      },
      "outputs": [
        {
          "name": "stdout",
          "output_type": "stream",
          "text": [
            "Tensorflow version \t\t:2.11.0\n",
            "Num physical_GPUs Available\t: 1\n",
            "Num physical_CPUs Available\t: 1\n",
            "\n",
            "Num logical_GPUs Available\t: 1\n",
            "Num logical_CPUs Available\t: 1\n"
          ]
        }
      ],
      "source": [
        "import tensorflow as tf\n",
        "\n",
        "print(\"Tensorflow version \\t\\t:\" + tf.__version__)\n",
        "\n",
        "# print(\"Available devices:\")\n",
        "# for i, device in enumerate(tf.config.list_logical_devices()):\n",
        "#     print(\"%d) %s\" % (i, device))\n",
        "\n",
        "# check if tensorflow see the GPU\n",
        "# tf.test.gpu_device_name()\n",
        "\n",
        "print(\"Num physical_GPUs Available\\t:\", len(tf.config.list_physical_devices('GPU')))\n",
        "print(\"Num physical_CPUs Available\\t:\", len(tf.config.list_physical_devices('CPU')))\n",
        "print()\n",
        "print(\"Num logical_GPUs Available\\t:\", len(tf.config.list_logical_devices('GPU')))\n",
        "print(\"Num logical_CPUs Available\\t:\", len(tf.config.list_logical_devices('CPU')))"
      ]
    },
    {
      "cell_type": "code",
      "execution_count": null,
      "metadata": {
        "colab": {
          "base_uri": "https://localhost:8080/"
        },
        "id": "_x27Gm0KSL85",
        "outputId": "fe338e9a-35de-44fb-9b12-271f3de47f22"
      },
      "outputs": [
        {
          "name": "stdout",
          "output_type": "stream",
          "text": [
            "We will use the GPU Device: [LogicalDevice(name='/device:GPU:0', device_type='GPU')]\n",
            "Number of replicas: 1\n"
          ]
        }
      ],
      "source": [
        "import tensorflow as tf\n",
        "\n",
        "try:\n",
        "    # resolver = tf.distribute.cluster_resolver.TPUClusterResolver() \n",
        "    # tf.config.experimental_connect_to_cluster(resolver)\n",
        "    # tf.tpu.experimental.initialize_tpu_system(resolver)\n",
        "    # strategy = tf.distribute.TPUStrategy(resolver)\n",
        "    tpu = tf.distribute.cluster_resolver.TPUClusterResolver.connect()\n",
        "    strategy = tf.distribute.TPUStrategy(tpu)    \n",
        "    print('Running on TPU ', tpu.master(), len(tf.config.list_logical_devices('TPU')))\n",
        "    \n",
        "except ValueError:\n",
        "    # If there's a GPU avaiable, to use the GPU, otherwise, using the CPU instead.\n",
        "    gpus = tf.config.list_logical_devices('GPU')\n",
        "    if len(gpus) > 1:        \n",
        "        strategy = tf.distribute.MirroredStrategy([gpu.name for gpu in gpus])           \n",
        "        print('Running on multiple GPUs ', gpus)  \n",
        "    elif len(gpus) == 1:\n",
        "        strategy = tf.distribute.get_strategy() # default strategy that works on CPU and single GPU\n",
        "        print('Running on single GPU ', gpus[0].name)\n",
        "    else:\n",
        "        strategy = tf.distribute.get_strategy() # default strategy that works on CPU and single GPU\n",
        "        print('Running on CPU')\n",
        "        \n",
        "print(\"Number of accelerators: \", strategy.num_replicas_in_sync)    "
      ]
    },
    {
      "cell_type": "code",
      "execution_count": null,
      "metadata": {
        "id": "sG8M7vje96F5"
      },
      "outputs": [],
      "source": [
        "import numpy as np\n",
        "import pandas as pd\n",
        "import matplotlib as mpl\n",
        "import matplotlib.pyplot as plt\n",
        "import seaborn as sns\n",
        "\n",
        "#import warnings\n",
        "#warnings.filterwarnings(\"ignore\")\n",
        "#warnings.warn(\"this will not show\")\n",
        "\n",
        "plt.rcParams[\"figure.figsize\"] = (10,6)\n",
        "# The style parameters control properties like the color of the background and whether a grid is enabled by default.\n",
        "# sns.set_style(\"whitegrid\")\n",
        "sns.set_style(\"whitegrid\", {'axes.grid' : False})\n",
        "\n",
        "pd.set_option('display.float_format', lambda x: '%.3f' % x)\n",
        "\n",
        "# Environment settings: \n",
        "# pd.set_option('display.float_format', lambda x: f'{x:.3f}')\n",
        "# pd.set_option('display.float_format', lambda x: '%.4f'%x)\n",
        "# pd.options.display.float_format = '{:.4f}'.format\n",
        "# Set it to None to display all columns in the dataframe\n",
        "pd.set_option('display.max_columns', None)\n",
        "# Set it None to display all rows in the dataframe\n",
        "pd.set_option('display.max_rows', 100)"
      ]
    },
    {
      "cell_type": "code",
      "execution_count": null,
      "metadata": {},
      "outputs": [],
      "source": [
        "import re\n",
        "import random\n",
        "import pathlib\n",
        "\n",
        "from glob import glob\n",
        "from matplotlib.image import imread\n",
        "import scipy.stats as stats"
      ]
    },
    {
      "attachments": {},
      "cell_type": "markdown",
      "metadata": {},
      "source": [
        "## Parameters"
      ]
    },
    {
      "cell_type": "code",
      "execution_count": null,
      "metadata": {
        "id": "7-65udwu-EVz"
      },
      "outputs": [],
      "source": [
        "BATCH_SIZE = 64 * strategy.num_replicas_in_sync # Gobal batch size.\n",
        "# The global batch size will be automatically sharded across all\n",
        "# replicas by the tf.data.Dataset API. A single TPU has 8 cores.\n",
        "# The best practice is to scale the batch size by the number of\n",
        "# replicas (cores). The learning rate should be increased as well.\n",
        "\n",
        "LEARNING_RATE = 0.01\n",
        "LEARNING_RATE_EXP_DECAY = 0.6 if strategy.num_replicas_in_sync == 1 else 0.7\n",
        "# Learning rate computed later as LEARNING_RATE * LEARNING_RATE_EXP_DECAY**epoch\n",
        "# 0.7 decay instead of 0.6 means a slower decay, i.e. a faster learnign rate.\n",
        "\n",
        "seed = random_state = 101\n",
        "\n",
        "print(BATCH_SIZE)\n",
        "print(round(LEARNING_RATE*LEARNING_RATE_EXP_DECAY, 3))"
      ]
    },
    {
      "cell_type": "markdown",
      "metadata": {
        "id": "QtXgk_uz9aOW"
      },
      "source": [
        "# Recognizing and Understanding Data\n",
        "\n",
        "**TASK 1: Run the code below to download the dataset using Keras.**"
      ]
    },
    {
      "cell_type": "code",
      "execution_count": null,
      "metadata": {
        "id": "ViqraLxO9aOX"
      },
      "outputs": [],
      "source": [
        "from tensorflow.keras.datasets import fashion_mnist\n",
        "\n",
        "(X_train, y_train), (X_test, y_test) = fashion_mnist.load_data()"
      ]
    },
    {
      "cell_type": "code",
      "execution_count": null,
      "metadata": {
        "colab": {
          "base_uri": "https://localhost:8080/"
        },
        "id": "zi-1EGDF9aOZ",
        "outputId": "23775220-205b-4b80-e2b2-148b05ec9545"
      },
      "outputs": [
        {
          "name": "stdout",
          "output_type": "stream",
          "text": [
            "There are  60000 images in the training dataset\n",
            "There are  10000 images in the test dataset\n"
          ]
        }
      ],
      "source": [
        "print(\"There are \", len(X_train), \"images in the training dataset\")     \n",
        "print(\"There are \", len(X_test), \"images in the test dataset\")"
      ]
    },
    {
      "cell_type": "code",
      "execution_count": null,
      "metadata": {
        "colab": {
          "base_uri": "https://localhost:8080/"
        },
        "id": "U5Trqi7N9aOa",
        "outputId": "a7e0bd39-84bc-4219-f3fe-8ff70043d17f"
      },
      "outputs": [
        {
          "data": {
            "text/plain": [
              "(28, 28)"
            ]
          },
          "execution_count": 9,
          "metadata": {},
          "output_type": "execute_result"
        }
      ],
      "source": [
        "# Checking the shape of one image\n",
        "X_train[5].shape"
      ]
    },
    {
      "cell_type": "code",
      "execution_count": null,
      "metadata": {
        "colab": {
          "base_uri": "https://localhost:8080/"
        },
        "id": "lOomdgv7_RLi",
        "outputId": "0f351ff0-b200-4e9f-fb6c-2b65256c3a6b"
      },
      "outputs": [
        {
          "data": {
            "text/plain": [
              "array([[  0,   0,   0,   0,   0,   0,   0,   0,   0,   0,   0,   0,   0,\n",
              "          0,   0,   0,   0,   0,   0,   0,   0,   0,   0,   0,   0,   0,\n",
              "          0,   0],\n",
              "       [  0,   0,   0,   0,   0,   0,   0,   0,   0,   0,   0,   0,   0,\n",
              "          0,   0,   0,   0,   0,   0,   0,   0,   0,   0,   0,   0,   0,\n",
              "          0,   0],\n",
              "       [  0,   0,   0,   0,   0,   0,   0,   0,   0,   0,   0,   0,   0,\n",
              "          0,   0,   0,   0,   0,   0,   0,   0,   0,   0,   0,   0,   0,\n",
              "          0,   0],\n",
              "       [  0,   0,   0,   0,   0,   0,   0,   0,   0,   0,   0,   0,   1,\n",
              "          0,   0,  13,  73,   0,   0,   1,   4,   0,   0,   0,   0,   1,\n",
              "          1,   0],\n",
              "       [  0,   0,   0,   0,   0,   0,   0,   0,   0,   0,   0,   0,   3,\n",
              "          0,  36, 136, 127,  62,  54,   0,   0,   0,   1,   3,   4,   0,\n",
              "          0,   3],\n",
              "       [  0,   0,   0,   0,   0,   0,   0,   0,   0,   0,   0,   0,   6,\n",
              "          0, 102, 204, 176, 134, 144, 123,  23,   0,   0,   0,   0,  12,\n",
              "         10,   0],\n",
              "       [  0,   0,   0,   0,   0,   0,   0,   0,   0,   0,   0,   0,   0,\n",
              "          0, 155, 236, 207, 178, 107, 156, 161, 109,  64,  23,  77, 130,\n",
              "         72,  15],\n",
              "       [  0,   0,   0,   0,   0,   0,   0,   0,   0,   0,   0,   1,   0,\n",
              "         69, 207, 223, 218, 216, 216, 163, 127, 121, 122, 146, 141,  88,\n",
              "        172,  66],\n",
              "       [  0,   0,   0,   0,   0,   0,   0,   0,   0,   1,   1,   1,   0,\n",
              "        200, 232, 232, 233, 229, 223, 223, 215, 213, 164, 127, 123, 196,\n",
              "        229,   0],\n",
              "       [  0,   0,   0,   0,   0,   0,   0,   0,   0,   0,   0,   0,   0,\n",
              "        183, 225, 216, 223, 228, 235, 227, 224, 222, 224, 221, 223, 245,\n",
              "        173,   0],\n",
              "       [  0,   0,   0,   0,   0,   0,   0,   0,   0,   0,   0,   0,   0,\n",
              "        193, 228, 218, 213, 198, 180, 212, 210, 211, 213, 223, 220, 243,\n",
              "        202,   0],\n",
              "       [  0,   0,   0,   0,   0,   0,   0,   0,   0,   1,   3,   0,  12,\n",
              "        219, 220, 212, 218, 192, 169, 227, 208, 218, 224, 212, 226, 197,\n",
              "        209,  52],\n",
              "       [  0,   0,   0,   0,   0,   0,   0,   0,   0,   0,   6,   0,  99,\n",
              "        244, 222, 220, 218, 203, 198, 221, 215, 213, 222, 220, 245, 119,\n",
              "        167,  56],\n",
              "       [  0,   0,   0,   0,   0,   0,   0,   0,   0,   4,   0,   0,  55,\n",
              "        236, 228, 230, 228, 240, 232, 213, 218, 223, 234, 217, 217, 209,\n",
              "         92,   0],\n",
              "       [  0,   0,   1,   4,   6,   7,   2,   0,   0,   0,   0,   0, 237,\n",
              "        226, 217, 223, 222, 219, 222, 221, 216, 223, 229, 215, 218, 255,\n",
              "         77,   0],\n",
              "       [  0,   3,   0,   0,   0,   0,   0,   0,   0,  62, 145, 204, 228,\n",
              "        207, 213, 221, 218, 208, 211, 218, 224, 223, 219, 215, 224, 244,\n",
              "        159,   0],\n",
              "       [  0,   0,   0,   0,  18,  44,  82, 107, 189, 228, 220, 222, 217,\n",
              "        226, 200, 205, 211, 230, 224, 234, 176, 188, 250, 248, 233, 238,\n",
              "        215,   0],\n",
              "       [  0,  57, 187, 208, 224, 221, 224, 208, 204, 214, 208, 209, 200,\n",
              "        159, 245, 193, 206, 223, 255, 255, 221, 234, 221, 211, 220, 232,\n",
              "        246,   0],\n",
              "       [  3, 202, 228, 224, 221, 211, 211, 214, 205, 205, 205, 220, 240,\n",
              "         80, 150, 255, 229, 221, 188, 154, 191, 210, 204, 209, 222, 228,\n",
              "        225,   0],\n",
              "       [ 98, 233, 198, 210, 222, 229, 229, 234, 249, 220, 194, 215, 217,\n",
              "        241,  65,  73, 106, 117, 168, 219, 221, 215, 217, 223, 223, 224,\n",
              "        229,  29],\n",
              "       [ 75, 204, 212, 204, 193, 205, 211, 225, 216, 185, 197, 206, 198,\n",
              "        213, 240, 195, 227, 245, 239, 223, 218, 212, 209, 222, 220, 221,\n",
              "        230,  67],\n",
              "       [ 48, 203, 183, 194, 213, 197, 185, 190, 194, 192, 202, 214, 219,\n",
              "        221, 220, 236, 225, 216, 199, 206, 186, 181, 177, 172, 181, 205,\n",
              "        206, 115],\n",
              "       [  0, 122, 219, 193, 179, 171, 183, 196, 204, 210, 213, 207, 211,\n",
              "        210, 200, 196, 194, 191, 195, 191, 198, 192, 176, 156, 167, 177,\n",
              "        210,  92],\n",
              "       [  0,   0,  74, 189, 212, 191, 175, 172, 175, 181, 185, 188, 189,\n",
              "        188, 193, 198, 204, 209, 210, 210, 211, 188, 188, 194, 192, 216,\n",
              "        170,   0],\n",
              "       [  2,   0,   0,   0,  66, 200, 222, 237, 239, 242, 246, 243, 244,\n",
              "        221, 220, 193, 191, 179, 182, 182, 181, 176, 166, 168,  99,  58,\n",
              "          0,   0],\n",
              "       [  0,   0,   0,   0,   0,   0,   0,  40,  61,  44,  72,  41,  35,\n",
              "          0,   0,   0,   0,   0,   0,   0,   0,   0,   0,   0,   0,   0,\n",
              "          0,   0],\n",
              "       [  0,   0,   0,   0,   0,   0,   0,   0,   0,   0,   0,   0,   0,\n",
              "          0,   0,   0,   0,   0,   0,   0,   0,   0,   0,   0,   0,   0,\n",
              "          0,   0],\n",
              "       [  0,   0,   0,   0,   0,   0,   0,   0,   0,   0,   0,   0,   0,\n",
              "          0,   0,   0,   0,   0,   0,   0,   0,   0,   0,   0,   0,   0,\n",
              "          0,   0]], dtype=uint8)"
            ]
          },
          "execution_count": 10,
          "metadata": {},
          "output_type": "execute_result"
        }
      ],
      "source": [
        "X_train[0]"
      ]
    },
    {
      "cell_type": "code",
      "execution_count": null,
      "metadata": {
        "colab": {
          "base_uri": "https://localhost:8080/",
          "height": 403
        },
        "id": "KAmf_pkz_jAg",
        "outputId": "0c4669cc-bdba-4efc-c5b0-22c734776831"
      },
      "outputs": [
        {
          "data": {
            "text/plain": [
              "<matplotlib.image.AxesImage at 0x7f734d7123a0>"
            ]
          },
          "execution_count": 11,
          "metadata": {},
          "output_type": "execute_result"
        },
        {
          "data": {
            "image/png": "[encoded data removed]",
            "text/plain": [
              "<Figure size 432x432 with 1 Axes>"
            ]
          },
          "metadata": {},
          "output_type": "display_data"
        }
      ],
      "source": [
        "# plt.imshow(X_train[0], cmap=plt.cm.Greys)\n",
        "plt.matshow(X_train[0], cmap=plt.cm.binary)"
      ]
    },
    {
      "cell_type": "code",
      "execution_count": null,
      "metadata": {
        "colab": {
          "base_uri": "https://localhost:8080/"
        },
        "id": "1SCWVvTU_0ph",
        "outputId": "1ee68d7a-15c1-4172-eda1-7d1ed1abef03"
      },
      "outputs": [
        {
          "data": {
            "text/plain": [
              "9"
            ]
          },
          "execution_count": 12,
          "metadata": {},
          "output_type": "execute_result"
        }
      ],
      "source": [
        "y_train[0]"
      ]
    },
    {
      "cell_type": "code",
      "execution_count": null,
      "metadata": {
        "colab": {
          "base_uri": "https://localhost:8080/"
        },
        "id": "OgJvxw9X_2-8",
        "outputId": "6a4fcca5-5962-4c86-9c24-afa4df203447"
      },
      "outputs": [
        {
          "data": {
            "text/plain": [
              "(60000,)"
            ]
          },
          "execution_count": 13,
          "metadata": {},
          "output_type": "execute_result"
        }
      ],
      "source": [
        "y_train.shape"
      ]
    },
    {
      "cell_type": "code",
      "execution_count": null,
      "metadata": {
        "colab": {
          "base_uri": "https://localhost:8080/"
        },
        "id": "Fad0PGRe_2ws",
        "outputId": "051ba941-c3a2-4cf2-d4e7-b4dceb5d3c15"
      },
      "outputs": [
        {
          "data": {
            "text/plain": [
              "array([9, 0, 0, ..., 3, 0, 5], dtype=uint8)"
            ]
          },
          "execution_count": 14,
          "metadata": {},
          "output_type": "execute_result"
        }
      ],
      "source": [
        "y_train"
      ]
    },
    {
      "cell_type": "code",
      "execution_count": null,
      "metadata": {
        "colab": {
          "base_uri": "https://localhost:8080/"
        },
        "id": "POBtXlcQ__Cr",
        "outputId": "626976b1-3717-4a6c-e8c5-624291616cd8"
      },
      "outputs": [
        {
          "data": {
            "text/plain": [
              "(array([0, 1, 2, 3, 4, 5, 6, 7, 8, 9], dtype=uint8),\n",
              " array([6000, 6000, 6000, 6000, 6000, 6000, 6000, 6000, 6000, 6000]))"
            ]
          },
          "execution_count": 15,
          "metadata": {},
          "output_type": "execute_result"
        }
      ],
      "source": [
        "np.unique(y_train, return_counts=True)"
      ]
    },
    {
      "cell_type": "code",
      "execution_count": null,
      "metadata": {
        "colab": {
          "base_uri": "https://localhost:8080/"
        },
        "id": "cymav-9T_-65",
        "outputId": "01393fe7-d91f-4935-90a9-e96ffbbe4be9"
      },
      "outputs": [
        {
          "data": {
            "text/plain": [
              "0    6000\n",
              "1    6000\n",
              "2    6000\n",
              "3    6000\n",
              "4    6000\n",
              "5    6000\n",
              "6    6000\n",
              "7    6000\n",
              "8    6000\n",
              "9    6000\n",
              "dtype: int64"
            ]
          },
          "execution_count": 16,
          "metadata": {},
          "output_type": "execute_result"
        }
      ],
      "source": [
        "pd.Series(y_train.flatten()).value_counts().sort_index()"
      ]
    },
    {
      "cell_type": "code",
      "execution_count": null,
      "metadata": {
        "colab": {
          "base_uri": "https://localhost:8080/",
          "height": 367
        },
        "id": "gZlbFzk5CScZ",
        "outputId": "647fea8c-a04f-4b03-8517-d7a8a2c24037"
      },
      "outputs": [
        {
          "data": {
            "image/png": "[encoded data removed]",
            "text/plain": [
              "<Figure size 864x864 with 10 Axes>"
            ]
          },
          "metadata": {},
          "output_type": "display_data"
        }
      ],
      "source": [
        "plt.figure(figsize=(12,12))\n",
        "for i in np.unique(y_train):\n",
        "    plt.subplot(5, 5, i+1)\n",
        "    plt.imshow(X_train[y_train==i][i] / 255.0, cmap=plt.cm.binary)\n",
        "    plt.grid(False)\n",
        "    plt.xlabel(i)\n",
        "    plt.xticks([])\n",
        "    plt.yticks([])\n",
        "    plt.tight_layout()"
      ]
    },
    {
      "cell_type": "markdown",
      "metadata": {
        "id": "U1yNTg5c9aOb"
      },
      "source": [
        "**TASK 2: Use matplotlib to view an image from the data set. It can be any image from the data set.**"
      ]
    },
    {
      "cell_type": "markdown",
      "metadata": {
        "id": "KLLlor8K6IT_"
      },
      "source": [
        "```\n",
        "Label    Description\n",
        "0        T-shirt/top\n",
        "1        Trouser\n",
        "2        Pullover\n",
        "3        Dress\n",
        "4        Coat\n",
        "5        Sandal\n",
        "6        Shirt\n",
        "7        Sneaker\n",
        "8        Bag\n",
        "9        Ankle boot\n",
        "```\n",
        "\n"
      ]
    },
    {
      "cell_type": "code",
      "execution_count": null,
      "metadata": {
        "id": "Ra5qyIvu9aOb"
      },
      "outputs": [],
      "source": [
        "classes = [\"T-shirt/top\", \"Trouser\",\"Pullover\",\"Dress\",\"Coat\",\"Sandal\",\"Shirt\",\"Sneaker\",\"Bag\",\"Ankle boot\"]"
      ]
    },
    {
      "cell_type": "code",
      "execution_count": null,
      "metadata": {
        "colab": {
          "base_uri": "https://localhost:8080/",
          "height": 367
        },
        "id": "2RczNS0O9aOc",
        "outputId": "6f269b24-bde3-4e3e-8095-ef5eae183512"
      },
      "outputs": [
        {
          "data": {
            "image/png": "[encoded data removed]",
            "text/plain": [
              "<Figure size 864x864 with 10 Axes>"
            ]
          },
          "metadata": {},
          "output_type": "display_data"
        }
      ],
      "source": [
        "plt.figure(figsize=(12,12))\n",
        "for i in range(10):\n",
        "    plt.subplot(5,5,i+1)\n",
        "    plt.imshow(X_train[i], cmap=plt.cm.binary)\n",
        "    plt.grid(False)\n",
        "    plt.xlabel(classes[y_train[i]])\n",
        "    plt.xticks([])\n",
        "    plt.yticks([])\n",
        "    plt.tight_layout()"
      ]
    },
    {
      "cell_type": "markdown",
      "metadata": {
        "id": "40YjPobJ9aOe"
      },
      "source": [
        "# Data Preprocessing\n",
        "\n",
        "**TASK 3: Normalize the X train and X test data by dividing by the max value of the image arrays.**"
      ]
    },
    {
      "cell_type": "code",
      "execution_count": null,
      "metadata": {
        "colab": {
          "base_uri": "https://localhost:8080/"
        },
        "id": "7hrFX3p_9aOe",
        "outputId": "09bc5a75-db97-418b-a2a0-1ff6d07a6c3f"
      },
      "outputs": [
        {
          "data": {
            "text/plain": [
              "(0, 255)"
            ]
          },
          "execution_count": 20,
          "metadata": {},
          "output_type": "execute_result"
        }
      ],
      "source": [
        "X_train[0].min(), X_train[0].max()"
      ]
    },
    {
      "cell_type": "code",
      "execution_count": null,
      "metadata": {
        "id": "lSBGJ3cZ9aOf"
      },
      "outputs": [],
      "source": [
        "# Normalize image pixels\n",
        "X_train = X_train.astype('float32')\n",
        "X_test = X_test.astype('float32')\n",
        "X_train /= 255\n",
        "X_test /= 255"
      ]
    },
    {
      "cell_type": "code",
      "execution_count": null,
      "metadata": {
        "colab": {
          "base_uri": "https://localhost:8080/"
        },
        "id": "XAThuNhL9aOf",
        "outputId": "c0ff1a3c-8ba1-412b-aa8f-f3e1f9529164"
      },
      "outputs": [
        {
          "data": {
            "text/plain": [
              "(0.0, 1.0)"
            ]
          },
          "execution_count": 22,
          "metadata": {},
          "output_type": "execute_result"
        }
      ],
      "source": [
        "X_train[0].min(), X_train[0].max()"
      ]
    },
    {
      "cell_type": "code",
      "execution_count": null,
      "metadata": {
        "colab": {
          "base_uri": "https://localhost:8080/",
          "height": 391
        },
        "id": "DfwmVnofHM6C",
        "outputId": "51ae6265-4b42-468e-b782-d1e305b457d2"
      },
      "outputs": [
        {
          "data": {
            "text/plain": [
              "<matplotlib.image.AxesImage at 0x7f734b0ca100>"
            ]
          },
          "execution_count": 23,
          "metadata": {},
          "output_type": "execute_result"
        },
        {
          "data": {
            "image/png": "[encoded data removed]",
            "text/plain": [
              "<Figure size 720x432 with 1 Axes>"
            ]
          },
          "metadata": {},
          "output_type": "display_data"
        }
      ],
      "source": [
        "plt.imshow(X_train[0], cmap=plt.cm.binary)"
      ]
    },
    {
      "cell_type": "markdown",
      "metadata": {
        "id": "QCbgxBIe9aOf"
      },
      "source": [
        "**Task 4: Reshape the X arrays to include a 4 dimension of the single channel. Similar to what we did for the numbers MNIST data set.**"
      ]
    },
    {
      "cell_type": "code",
      "execution_count": null,
      "metadata": {
        "colab": {
          "base_uri": "https://localhost:8080/"
        },
        "id": "xM0YazSvHvpm",
        "outputId": "e11a70cc-e13c-4bf5-fd13-f5116be8ad3c"
      },
      "outputs": [
        {
          "data": {
            "text/plain": [
              "((60000, 28, 28), (10000, 28, 28))"
            ]
          },
          "execution_count": 24,
          "metadata": {},
          "output_type": "execute_result"
        }
      ],
      "source": [
        "X_train.shape, X_test.shape"
      ]
    },
    {
      "cell_type": "code",
      "execution_count": null,
      "metadata": {
        "colab": {
          "base_uri": "https://localhost:8080/"
        },
        "id": "YDEUcgkx9aOg",
        "outputId": "76dc8c88-e19c-4561-ca6f-7ce02351a7c5"
      },
      "outputs": [
        {
          "data": {
            "text/plain": [
              "(60000, 28, 28, 1)"
            ]
          },
          "execution_count": 25,
          "metadata": {},
          "output_type": "execute_result"
        }
      ],
      "source": [
        "X_train.reshape(60000, 28, 28, 1).shape"
      ]
    },
    {
      "cell_type": "code",
      "execution_count": null,
      "metadata": {
        "id": "kkV4Eehw9aOg"
      },
      "outputs": [],
      "source": [
        "X_train = X_train.reshape(X_train.shape[0],28, 28, 1) \n",
        "X_test = X_test.reshape(X_test.shape[0], 28, 28, 1)"
      ]
    },
    {
      "cell_type": "code",
      "execution_count": null,
      "metadata": {
        "colab": {
          "base_uri": "https://localhost:8080/"
        },
        "id": "vAIJuIjp9aOh",
        "outputId": "8393333c-8eb7-4af3-adfa-a988d5e0b2f3"
      },
      "outputs": [
        {
          "data": {
            "text/plain": [
              "((60000, 28, 28, 1), (10000, 28, 28, 1))"
            ]
          },
          "execution_count": 27,
          "metadata": {},
          "output_type": "execute_result"
        }
      ],
      "source": [
        "X_train.shape, X_test.shape"
      ]
    },
    {
      "cell_type": "code",
      "execution_count": null,
      "metadata": {
        "colab": {
          "base_uri": "https://localhost:8080/"
        },
        "id": "_UEyu3CoJwtv",
        "outputId": "87eef6e0-747d-4b93-d8ea-8380affff833"
      },
      "outputs": [
        {
          "data": {
            "text/plain": [
              "(28, 28, 1)"
            ]
          },
          "execution_count": 28,
          "metadata": {},
          "output_type": "execute_result"
        }
      ],
      "source": [
        "image_shape = X_train[0].shape\n",
        "image_shape"
      ]
    },
    {
      "cell_type": "markdown",
      "metadata": {
        "id": "XZyGKMJ69aOh"
      },
      "source": [
        "**TASK 5: Convert the y_train and y_test values to be one-hot encoded for categorical analysis by Keras.**"
      ]
    },
    {
      "cell_type": "code",
      "execution_count": null,
      "metadata": {
        "id": "3iuV4xUz9aOh"
      },
      "outputs": [],
      "source": [
        "from tensorflow.keras.utils import to_categorical"
      ]
    },
    {
      "cell_type": "code",
      "execution_count": null,
      "metadata": {
        "colab": {
          "base_uri": "https://localhost:8080/"
        },
        "id": "9FgkEcCUIUg0",
        "outputId": "68033d31-4c49-4f88-a66e-880ea353370f"
      },
      "outputs": [
        {
          "data": {
            "text/plain": [
              "10"
            ]
          },
          "execution_count": 30,
          "metadata": {},
          "output_type": "execute_result"
        }
      ],
      "source": [
        "np.unique(y_train).size"
      ]
    },
    {
      "cell_type": "code",
      "execution_count": null,
      "metadata": {
        "colab": {
          "base_uri": "https://localhost:8080/"
        },
        "id": "IpR6zA1_9aOh",
        "outputId": "b311e8c0-8f64-4351-c0d7-7388dc908c1b"
      },
      "outputs": [
        {
          "data": {
            "text/plain": [
              "((60000, 10), (10000, 10))"
            ]
          },
          "execution_count": 31,
          "metadata": {},
          "output_type": "execute_result"
        }
      ],
      "source": [
        "Y_train = to_categorical(y_train, num_classes=10) \n",
        "Y_test = to_categorical(y_test, num_classes=10)\n",
        "Y_train.shape, Y_test.shape"
      ]
    },
    {
      "cell_type": "code",
      "execution_count": null,
      "metadata": {
        "colab": {
          "base_uri": "https://localhost:8080/"
        },
        "id": "_wLJHcePV5yu",
        "outputId": "4b1a7385-196d-45c3-efc8-4c518e591677"
      },
      "outputs": [
        {
          "data": {
            "text/plain": [
              "((60000, 10), (10000, 10))"
            ]
          },
          "execution_count": 32,
          "metadata": {},
          "output_type": "execute_result"
        }
      ],
      "source": [
        "from sklearn.preprocessing import MultiLabelBinarizer, LabelBinarizer, LabelEncoder\n",
        "\n",
        "lb = LabelBinarizer()\n",
        "Y_train = lb.fit_transform(y_train)\n",
        "Y_test  = lb.transform(y_test)\n",
        "\n",
        "Y_train.shape, Y_test.shape"
      ]
    },
    {
      "cell_type": "code",
      "execution_count": null,
      "metadata": {
        "colab": {
          "base_uri": "https://localhost:8080/"
        },
        "id": "Mb6mrDbn9aOi",
        "outputId": "46488095-2c8b-440e-91ab-562015c97541"
      },
      "outputs": [
        {
          "data": {
            "text/plain": [
              "array([0, 0, 0, 0, 0, 0, 0, 0, 0, 1])"
            ]
          },
          "execution_count": 33,
          "metadata": {},
          "output_type": "execute_result"
        }
      ],
      "source": [
        "Y_train[0]"
      ]
    },
    {
      "cell_type": "code",
      "execution_count": null,
      "metadata": {
        "colab": {
          "base_uri": "https://localhost:8080/"
        },
        "id": "2GZboVxf9aOi",
        "outputId": "631a0726-101a-43e9-ae11-e89f38d93fcf"
      },
      "outputs": [
        {
          "data": {
            "text/plain": [
              "9"
            ]
          },
          "execution_count": 34,
          "metadata": {},
          "output_type": "execute_result"
        }
      ],
      "source": [
        "y_train[0]"
      ]
    },
    {
      "cell_type": "markdown",
      "metadata": {
        "id": "RReNqNME9a3I"
      },
      "source": [
        "- https://github.com/scikit-learn/scikit-learn/blob/a24c8b46/sklearn/preprocessing/label.py#L39"
      ]
    },
    {
      "cell_type": "code",
      "execution_count": null,
      "metadata": {
        "colab": {
          "base_uri": "https://localhost:8080/"
        },
        "id": "zBump_cu5JSt",
        "outputId": "c1d02c6f-1f10-4237-9e9b-49d39e384e8e"
      },
      "outputs": [
        {
          "data": {
            "text/plain": [
              "(array(['T-shirt/top', 'Trouser', 'Pullover', 'Dress', 'Coat', 'Sandal',\n",
              "        'Shirt', 'Sneaker', 'Bag', 'Ankle boot'], dtype=object),\n",
              " array(['Ankle boot'], dtype=object))"
            ]
          },
          "execution_count": 35,
          "metadata": {},
          "output_type": "execute_result"
        }
      ],
      "source": [
        "from sklearn.preprocessing import MultiLabelBinarizer, LabelBinarizer, LabelEncoder\n",
        "from sklearn.utils import column_or_1d\n",
        "\n",
        "classes = [\"T-shirt/top\", \"Trouser\",\"Pullover\",\"Dress\",\"Coat\",\"Sandal\",\"Shirt\",\"Sneaker\",\"Bag\",\"Ankle boot\"]\n",
        "\n",
        "class LabelEncoder(LabelEncoder):\n",
        "    def fit(self, y):\n",
        "        y = column_or_1d(y, warn=True)\n",
        "        # self.classes_ = np.unique(y) # defaulth sorted\n",
        "        self.classes_ = pd.Series(y).unique() # but we dont \n",
        "        return self\n",
        "\n",
        "le = LabelEncoder()\n",
        "le.fit(classes)\n",
        "\n",
        "le.classes_, le.inverse_transform([y_train[0]])"
      ]
    },
    {
      "cell_type": "markdown",
      "metadata": {
        "id": "zV_MSXF-9aOi"
      },
      "source": [
        "# Convolutional Neural Network Modeling"
      ]
    },
    {
      "cell_type": "code",
      "execution_count": null,
      "metadata": {
        "id": "ifJKsjYqW5ig"
      },
      "outputs": [],
      "source": [
        "# !pip install tensorflow -Uq\n",
        "import tensorflow as tf\n",
        "# !pip install tensorflow-addons -Uq\n",
        "import tensorflow_addons as tfa\n",
        "\n",
        "from tensorflow.keras import backend as K\n",
        "from tensorflow.keras.utils import to_categorical\n",
        "from tensorflow.keras.models import load_model\n",
        "from tensorflow.keras.preprocessing import image\n",
        "from tensorflow.keras.preprocessing.image import ImageDataGenerator\n",
        "from sklearn.preprocessing import MultiLabelBinarizer, LabelBinarizer, LabelEncoder\n",
        "\n",
        "from tensorflow.keras.models import Sequential\n",
        "from tensorflow.keras.layers import Input, Dense, Activation, BatchNormalization, Dropout\n",
        "from tensorflow.keras.layers import Conv2D, MaxPool2D, MaxPooling2D, GlobalAveragePooling2D, Flatten\n",
        "from tensorflow.keras.callbacks import EarlyStopping\n",
        "\n",
        "from sklearn.metrics import classification_report, confusion_matrix\n",
        "from sklearn.metrics import multilabel_confusion_matrix, ConfusionMatrixDisplay\n",
        "from sklearn.metrics import RocCurveDisplay, PrecisionRecallDisplay\n",
        "from sklearn.metrics import roc_auc_score, roc_curve #, plot_roc_curve\n",
        "from sklearn.metrics import precision_recall_curve, average_precision_score\n",
        "from sklearn.metrics import  SCORERS, precision_score, recall_score, f1_score, accuracy_score, cohen_kappa_score\n",
        "\n",
        "# !pip install scikeras[tensorflow] -Uq\n",
        "# from scikeras.wrappers import KerasClassifier, KerasRegressor\n",
        "from tensorflow.keras.wrappers.scikit_learn import KerasClassifier, KerasRegressor\n",
        "from tensorflow.keras.optimizers import Adam, Adadelta, RMSprop, Nadam\n",
        "from sklearn.model_selection import cross_val_score, cross_validate\n",
        "from sklearn.model_selection import GridSearchCV\n",
        "from sklearn.pipeline import Pipeline"
      ]
    },
    {
      "cell_type": "code",
      "execution_count": null,
      "metadata": {
        "id": "cPPRzxYuXAhO"
      },
      "outputs": [],
      "source": [
        "# !pip install scikit-plot -Uq\n",
        "import scikitplot as skplt"
      ]
    },
    {
      "cell_type": "markdown",
      "metadata": {
        "id": "nwuo6Qv5XSzK"
      },
      "source": [
        "## Eval Metric Convolutional Neural Network"
      ]
    },
    {
      "cell_type": "code",
      "execution_count": null,
      "metadata": {
        "id": "9RXyuzfhXb6P"
      },
      "outputs": [],
      "source": [
        "def eval_metric(model, X_train, y_train, X_test, y_test, pipe = True):\n",
        "    from sklearn.metrics import confusion_matrix, classification_report\n",
        "    if pipe:\n",
        "        y_pred_test  = model[-1].predict(model[:-1].transform(X_test)) >= 0.5\n",
        "        y_pred_train = model[-1].predict(model[:-1].transform(X_train)) >= 0.5\n",
        "    else:\n",
        "        y_pred_test = model.predict(X_test) >= 0.5 # model.predict_classes(X_test) for tf 2.5.0\n",
        "        y_pred_train = model.predict(X_train) >= 0.5\n",
        "      \n",
        "    print('TEST')    \n",
        "    print(confusion_matrix(y_test, y_pred_test))\n",
        "    print(classification_report(y_test, y_pred_test))\n",
        "    print(\"-------------------------------------------------------\")\n",
        "    print('TRAIN')\n",
        "    print(confusion_matrix(y_train, y_pred_train))\n",
        "    print(classification_report(y_train, y_pred_train))"
      ]
    },
    {
      "cell_type": "code",
      "execution_count": null,
      "metadata": {
        "id": "vnTluyffXeNX"
      },
      "outputs": [],
      "source": [
        "def plot_history(history, pipe=True):\n",
        "    # Plot training results\n",
        "    if pipe:\n",
        "        H = history[-1].history.history\n",
        "    else:\n",
        "        H = history.history\n",
        "    \n",
        "    fig = plt.figure(figsize = (18, 7))\n",
        "\n",
        "    plt.subplot(121)\n",
        "    plt.plot(H['loss'], label = 'loss')\n",
        "    plt.plot(H['val_loss'], label = 'val_loss')\n",
        "    plt.grid()\n",
        "    plt.legend()\n",
        "\n",
        "    plt.subplot(122)\n",
        "    plt.plot(H['recall'], label = 'recall')\n",
        "    plt.plot(H['val_recall'], label = 'val_recall')\n",
        "    plt.grid()\n",
        "    plt.legend()"
      ]
    },
    {
      "cell_type": "code",
      "execution_count": null,
      "metadata": {
        "id": "REmaZpSNXgMI"
      },
      "outputs": [],
      "source": [
        "def plot_metrics(history, metrics_names, pipe=True):\n",
        "    colors  = plt.rcParams['axes.prop_cycle'].by_key()['color']\n",
        "    if pipe:\n",
        "        history = history[-1].history\n",
        "    else:\n",
        "        history = history\n",
        "\n",
        "    fig = plt.figure(figsize = (14, 10))\n",
        "\n",
        "    for n, metric in enumerate(metrics_names):\n",
        "        name = str(metric).replace(\"_\",\" \").capitalize()\n",
        "        plt.subplot(3, 2, n+1)\n",
        "        plt.plot(history.epoch, history.history[metric], \n",
        "                 color='xkcd:dodger blue', label='Train')\n",
        "        plt.plot(history.epoch, history.history['val_'+metric],\n",
        "                 color='salmon', ls=\"--\", label='Val')\n",
        "        plt.xlabel('Epoch')\n",
        "        plt.ylabel(name, fontsize=12)\n",
        "        plt.legend()\n",
        "        plt.tight_layout(pad=0.3)\n",
        "        if metric == 'loss':\n",
        "            plt.ylim(top=plt.ylim()[1])\n",
        "        else: # plt.ylim(plt.gca().get_ylim())\n",
        "            plt.ylim(bottom=plt.ylim()[0])"
      ]
    },
    {
      "cell_type": "markdown",
      "metadata": {
        "id": "GxXt_s1I9aOi"
      },
      "source": [
        "## Create the model\n",
        "\n",
        "**TASK 5: Use Keras to create a model consisting of at least the following layers (but feel free to experiment):**\n",
        "\n",
        "* 2D Convolutional Layer, filters=28 and kernel_size=(3,3)\n",
        "* Pooling Layer where pool_size = (2,2) strides=(1,1)\n",
        "\n",
        "* Flatten Layer\n",
        "* Dense Layer (128 Neurons, but feel free to play around with this value), RELU activation\n",
        "\n",
        "* Final Dense Layer of 10 Neurons with a softmax activation\n",
        "\n",
        "**Then compile the model with these parameters: loss='categorical_crossentropy', optimizer='rmsprop', metrics=['accuracy']**"
      ]
    },
    {
      "cell_type": "code",
      "execution_count": null,
      "metadata": {
        "colab": {
          "base_uri": "https://localhost:8080/"
        },
        "id": "Q9S-HPd8XpLc",
        "outputId": "9ab1be5b-3645-4d19-cf1d-8e61ab39fbcb"
      },
      "outputs": [
        {
          "name": "stdout",
          "output_type": "stream",
          "text": [
            "Model Defined Shape:  (60000, 28, 28, 1) (28, 28, 1)\n"
          ]
        }
      ],
      "source": [
        "print(\"Model Defined Shape: \", X_train.shape, image_shape)        # Input Layer Shape\n",
        "\n",
        "# way-1\n",
        "def build_classifier_model(\n",
        "        input_shape: int = X_train.shape[1:],\n",
        "        units:int        = 128,\n",
        ") -> tf.keras.models.Model:    \n",
        "    import tensorflow as tf    \n",
        "    \n",
        "    model = Sequential()\n",
        "    model.add(Conv2D(filters=28, kernel_size=(3,3), activation='relu', input_shape=input_shape))\n",
        "    model.add(MaxPooling2D(pool_size=(2, 2), strides=(1,1)))\n",
        "\n",
        "    model.add(Flatten())\n",
        "    model.add(Dense(units, activation='relu'))\n",
        "    model.add(Dense(10, activation='softmax'))\n",
        "    \n",
        "    model.compile(optimizer = \"rmsprop\", \n",
        "                  loss = 'categorical_crossentropy', \n",
        "                  metrics = ['accuracy', 'Recall'], \n",
        "                  # weighted_metrics=['Recall']\n",
        "                  )\n",
        "    return model"
      ]
    },
    {
      "cell_type": "code",
      "execution_count": null,
      "metadata": {
        "colab": {
          "base_uri": "https://localhost:8080/"
        },
        "id": "DX8rMSSBZUtc",
        "outputId": "1b883f0c-decf-486c-878d-ad35588838f2"
      },
      "outputs": [
        {
          "name": "stdout",
          "output_type": "stream",
          "text": [
            "Model Defined Shape:  (60000, 28, 28, 1) (28, 28, 1)\n"
          ]
        }
      ],
      "source": [
        "print(\"Model Defined Shape: \", X_train.shape, image_shape)        # Input Layer Shape\n",
        "\n",
        "# way-2\n",
        "def build_classifier_model_cnn(\n",
        "        input_shape: int = X_train.shape[1:],\n",
        "        units:int      = 128,\n",
        ") -> tf.keras.models.Model:\n",
        "    import tensorflow as tf  \n",
        "    \n",
        "    inputs = tf.keras.layers.Input(shape=input_shape )\n",
        "    x = tf.keras.layers.Conv2D(filters=28, kernel_size=(3,3), activation='relu')(inputs)\n",
        "    x = tf.keras.layers.MaxPooling2D(pool_size=(2, 2), strides=(1,1))(x)\n",
        "    x = tf.keras.layers.Flatten()(x)\n",
        "    x = tf.keras.layers.Dense(units, activation=tf.nn.relu)(x) \n",
        "    outputs  = tf.keras.layers.Dense(10, activation=tf.nn.softmax)(x)\n",
        "    \n",
        "    model = tf.keras.Model(inputs=inputs, outputs=outputs, name=\"classifier_model\") \n",
        "\n",
        "    precision_at_recall = tf.keras.metrics.PrecisionAtRecall(recall=0.8)\n",
        "\n",
        "    model.compile(optimizer = tf.keras.optimizers.RMSprop(learning_rate=0.001), \n",
        "                  loss = tf.keras.losses.CategoricalCrossentropy(), \n",
        "                  metrics = ['accuracy', tf.keras.metrics.Recall()], \n",
        "                  # weighted_metrics = [tf.keras.metrics.Recall()] \n",
        "                  )\n",
        "    return model"
      ]
    },
    {
      "cell_type": "markdown",
      "metadata": {
        "id": "ZsTFg_Qj9aOj"
      },
      "source": [
        "##  Model Training \n",
        "\n",
        "**TASK 6: Train/Fit the model to the x_train set by using EarlyStop. Amount of epochs is up to you.**"
      ]
    },
    {
      "cell_type": "code",
      "execution_count": null,
      "metadata": {
        "colab": {
          "base_uri": "https://localhost:8080/",
          "height": 416
        },
        "id": "vuhryfvk9aOk",
        "outputId": "e7ce447e-2d2f-4aba-dadf-51823e495355"
      },
      "outputs": [
        {
          "name": "stdout",
          "output_type": "stream",
          "text": [
            "Model: \"sequential\"\n",
            "_________________________________________________________________\n",
            " Layer (type)                Output Shape              Param #   \n",
            "=================================================================\n",
            " conv2d (Conv2D)             (None, 26, 26, 28)        280       \n",
            "                                                                 \n",
            " max_pooling2d (MaxPooling2D  (None, 25, 25, 28)       0         \n",
            " )                                                               \n",
            "                                                                 \n",
            " flatten (Flatten)           (None, 17500)             0         \n",
            "                                                                 \n",
            " dense (Dense)               (None, 128)               2240128   \n",
            "                                                                 \n",
            " dense_1 (Dense)             (None, 10)                1290      \n",
            "                                                                 \n",
            "=================================================================\n",
            "Total params: 2,241,698\n",
            "Trainable params: 2,241,698\n",
            "Non-trainable params: 0\n",
            "_________________________________________________________________\n"
          ]
        },
        {
          "data": {
            "text/plain": [
              "None"
            ]
          },
          "metadata": {},
          "output_type": "display_data"
        },
        {
          "data": {
            "text/plain": [
              "Pipeline(steps=[('cnn',\n",
              "                 <keras.engine.sequential.Sequential object at 0x7f734a40a310>)])"
            ]
          },
          "execution_count": 43,
          "metadata": {},
          "output_type": "execute_result"
        }
      ],
      "source": [
        "from sklearn.pipeline import Pipeline\n",
        "\n",
        "tf.keras.backend.clear_session()\n",
        "\n",
        "with strategy.scope():  \n",
        "    model = build_classifier_model()\n",
        "    display(model.summary())\n",
        "\n",
        "    pipe_cnn1 = Pipeline([\n",
        "        (\"cnn\", model)\n",
        "    ])\n",
        "    pipe_cnn1"
      ]
    },
    {
      "cell_type": "code",
      "execution_count": null,
      "metadata": {
        "colab": {
          "base_uri": "https://localhost:8080/",
          "height": 451
        },
        "id": "2R_tBSRPbFeV",
        "outputId": "1948a0de-beac-4802-e8a3-12c4b5e0e5f6"
      },
      "outputs": [
        {
          "name": "stdout",
          "output_type": "stream",
          "text": [
            "Model: \"classifier_model\"\n",
            "_________________________________________________________________\n",
            " Layer (type)                Output Shape              Param #   \n",
            "=================================================================\n",
            " input_1 (InputLayer)        [(None, 28, 28, 1)]       0         \n",
            "                                                                 \n",
            " conv2d (Conv2D)             (None, 26, 26, 28)        280       \n",
            "                                                                 \n",
            " max_pooling2d (MaxPooling2D  (None, 25, 25, 28)       0         \n",
            " )                                                               \n",
            "                                                                 \n",
            " flatten (Flatten)           (None, 17500)             0         \n",
            "                                                                 \n",
            " dense (Dense)               (None, 128)               2240128   \n",
            "                                                                 \n",
            " dense_1 (Dense)             (None, 10)                1290      \n",
            "                                                                 \n",
            "=================================================================\n",
            "Total params: 2,241,698\n",
            "Trainable params: 2,241,698\n",
            "Non-trainable params: 0\n",
            "_________________________________________________________________\n"
          ]
        },
        {
          "data": {
            "text/plain": [
              "None"
            ]
          },
          "metadata": {},
          "output_type": "display_data"
        },
        {
          "data": {
            "text/plain": [
              "Pipeline(steps=[('cnn',\n",
              "                 <keras.engine.functional.Functional object at 0x7f734a28da60>)])"
            ]
          },
          "execution_count": 44,
          "metadata": {},
          "output_type": "execute_result"
        }
      ],
      "source": [
        "from sklearn.pipeline import Pipeline\n",
        "\n",
        "tf.keras.backend.clear_session()\n",
        "\n",
        "with strategy.scope():  \n",
        "    model = build_classifier_model_cnn()\n",
        "    display(model.summary())\n",
        "\n",
        "    pipe_cnn2 = Pipeline([\n",
        "        (\"cnn\", model)\n",
        "    ])\n",
        "    pipe_cnn2"
      ]
    },
    {
      "cell_type": "code",
      "execution_count": null,
      "metadata": {},
      "outputs": [],
      "source": [
        "from collections import Counter\n",
        "\n",
        "counter = Counter(y_train)                          \n",
        "max_val = float(max(counter.values()))       \n",
        "class_weights = {class_id : max_val/num_images for class_id, num_images in counter.items()}  \n",
        "class_weights"
      ]
    },
    {
      "cell_type": "code",
      "execution_count": null,
      "metadata": {
        "colab": {
          "base_uri": "https://localhost:8080/"
        },
        "id": "O9PPOXOQb-Wa",
        "outputId": "61fdef90-8418-4444-98d3-1a05e138b818"
      },
      "outputs": [
        {
          "name": "stdout",
          "output_type": "stream",
          "text": [
            "{0: 1.0, 1: 1.0, 2: 1.0, 3: 1.0, 4: 1.0, 5: 1.0, 6: 1.0, 7: 1.0, 8: 1.0, 9: 1.0}\n"
          ]
        }
      ],
      "source": [
        "from sklearn.utils import class_weight\n",
        "\n",
        "class_weights = dict(\n",
        "    zip(np.unique(y_train),\n",
        "        class_weight.compute_class_weight(\n",
        "            class_weight = 'balanced',\n",
        "            classes = np.unique(y_train), \n",
        "            y = y_train)\n",
        "))\n",
        "print(class_weights)"
      ]
    },
    {
      "cell_type": "code",
      "execution_count": null,
      "metadata": {
        "id": "LuH8R_9cbxy3"
      },
      "outputs": [],
      "source": [
        "early_stop = EarlyStopping(monitor='val_recall', mode=\"max\",\n",
        "                           verbose = 1, patience = 15, restore_best_weights = True)"
      ]
    },
    {
      "cell_type": "code",
      "execution_count": null,
      "metadata": {
        "colab": {
          "base_uri": "https://localhost:8080/"
        },
        "id": "N4O0Wg32cPBq",
        "outputId": "3f1b0625-5312-4dd5-bcb4-9e99a01e25c2"
      },
      "outputs": [
        {
          "name": "stdout",
          "output_type": "stream",
          "text": [
            "Restoring model weights from the end of the best epoch: 62.\n",
            "Epoch 77: early stopping\n",
            "CPU times: user 8min 43s, sys: 58.4 s, total: 9min 42s\n",
            "Wall time: 8min 4s\n"
          ]
        }
      ],
      "source": [
        "%%time\n",
        "history = pipe_cnn1.fit(X = X_train, y = Y_train, cnn__validation_data = (X_test,Y_test), #cnn__validation_split = 0.1,\n",
        "                    cnn__batch_size = 32, cnn__epochs = 1000, cnn__verbose = 0, cnn__callbacks=[early_stop], cnn__class_weight=class_weights)"
      ]
    },
    {
      "cell_type": "code",
      "execution_count": null,
      "metadata": {
        "colab": {
          "base_uri": "https://localhost:8080/",
          "height": 551
        },
        "id": "4EiQzjPPsWAp",
        "outputId": "f57005b3-0c92-4ddc-8df6-9d68331d18ee"
      },
      "outputs": [
        {
          "data": {
            "text/html": [
              "\n",
              "  <div id=\"df-c97af6ea-66d2-4453-8479-adc80562bd62\">\n",
              "    <div class=\"colab-df-container\">\n",
              "      <div>\n",
              "<style scoped>\n",
              "    .dataframe tbody tr th:only-of-type {\n",
              "        vertical-align: middle;\n",
              "    }\n",
              "\n",
              "    .dataframe tbody tr th {\n",
              "        vertical-align: top;\n",
              "    }\n",
              "\n",
              "    .dataframe thead th {\n",
              "        text-align: right;\n",
              "    }\n",
              "</style>\n",
              "<table border=\"1\" class=\"dataframe\">\n",
              "  <thead>\n",
              "    <tr style=\"text-align: right;\">\n",
              "      <th></th>\n",
              "      <th>loss</th>\n",
              "      <th>accuracy</th>\n",
              "      <th>recall</th>\n",
              "      <th>val_loss</th>\n",
              "      <th>val_accuracy</th>\n",
              "      <th>val_recall</th>\n",
              "    </tr>\n",
              "  </thead>\n",
              "  <tbody>\n",
              "    <tr>\n",
              "      <th>62</th>\n",
              "      <td>0.001</td>\n",
              "      <td>1.000</td>\n",
              "      <td>1.000</td>\n",
              "      <td>1.449</td>\n",
              "      <td>0.915</td>\n",
              "      <td>0.915</td>\n",
              "    </tr>\n",
              "    <tr>\n",
              "      <th>63</th>\n",
              "      <td>0.000</td>\n",
              "      <td>1.000</td>\n",
              "      <td>1.000</td>\n",
              "      <td>1.475</td>\n",
              "      <td>0.914</td>\n",
              "      <td>0.914</td>\n",
              "    </tr>\n",
              "    <tr>\n",
              "      <th>64</th>\n",
              "      <td>0.002</td>\n",
              "      <td>0.999</td>\n",
              "      <td>0.999</td>\n",
              "      <td>1.525</td>\n",
              "      <td>0.910</td>\n",
              "      <td>0.910</td>\n",
              "    </tr>\n",
              "    <tr>\n",
              "      <th>65</th>\n",
              "      <td>0.001</td>\n",
              "      <td>1.000</td>\n",
              "      <td>1.000</td>\n",
              "      <td>1.455</td>\n",
              "      <td>0.910</td>\n",
              "      <td>0.910</td>\n",
              "    </tr>\n",
              "    <tr>\n",
              "      <th>66</th>\n",
              "      <td>0.001</td>\n",
              "      <td>1.000</td>\n",
              "      <td>1.000</td>\n",
              "      <td>1.578</td>\n",
              "      <td>0.908</td>\n",
              "      <td>0.908</td>\n",
              "    </tr>\n",
              "    <tr>\n",
              "      <th>67</th>\n",
              "      <td>0.003</td>\n",
              "      <td>0.999</td>\n",
              "      <td>0.999</td>\n",
              "      <td>1.551</td>\n",
              "      <td>0.905</td>\n",
              "      <td>0.905</td>\n",
              "    </tr>\n",
              "    <tr>\n",
              "      <th>68</th>\n",
              "      <td>0.002</td>\n",
              "      <td>1.000</td>\n",
              "      <td>1.000</td>\n",
              "      <td>1.425</td>\n",
              "      <td>0.913</td>\n",
              "      <td>0.913</td>\n",
              "    </tr>\n",
              "    <tr>\n",
              "      <th>69</th>\n",
              "      <td>0.001</td>\n",
              "      <td>1.000</td>\n",
              "      <td>1.000</td>\n",
              "      <td>1.444</td>\n",
              "      <td>0.914</td>\n",
              "      <td>0.913</td>\n",
              "    </tr>\n",
              "    <tr>\n",
              "      <th>70</th>\n",
              "      <td>0.002</td>\n",
              "      <td>1.000</td>\n",
              "      <td>1.000</td>\n",
              "      <td>1.371</td>\n",
              "      <td>0.910</td>\n",
              "      <td>0.910</td>\n",
              "    </tr>\n",
              "    <tr>\n",
              "      <th>71</th>\n",
              "      <td>0.002</td>\n",
              "      <td>0.999</td>\n",
              "      <td>0.999</td>\n",
              "      <td>1.645</td>\n",
              "      <td>0.911</td>\n",
              "      <td>0.911</td>\n",
              "    </tr>\n",
              "    <tr>\n",
              "      <th>72</th>\n",
              "      <td>0.003</td>\n",
              "      <td>0.999</td>\n",
              "      <td>0.999</td>\n",
              "      <td>1.533</td>\n",
              "      <td>0.910</td>\n",
              "      <td>0.910</td>\n",
              "    </tr>\n",
              "    <tr>\n",
              "      <th>73</th>\n",
              "      <td>0.001</td>\n",
              "      <td>1.000</td>\n",
              "      <td>1.000</td>\n",
              "      <td>1.557</td>\n",
              "      <td>0.910</td>\n",
              "      <td>0.910</td>\n",
              "    </tr>\n",
              "    <tr>\n",
              "      <th>74</th>\n",
              "      <td>0.000</td>\n",
              "      <td>1.000</td>\n",
              "      <td>1.000</td>\n",
              "      <td>1.602</td>\n",
              "      <td>0.914</td>\n",
              "      <td>0.914</td>\n",
              "    </tr>\n",
              "    <tr>\n",
              "      <th>75</th>\n",
              "      <td>0.001</td>\n",
              "      <td>1.000</td>\n",
              "      <td>1.000</td>\n",
              "      <td>1.501</td>\n",
              "      <td>0.911</td>\n",
              "      <td>0.911</td>\n",
              "    </tr>\n",
              "    <tr>\n",
              "      <th>76</th>\n",
              "      <td>0.001</td>\n",
              "      <td>1.000</td>\n",
              "      <td>1.000</td>\n",
              "      <td>1.619</td>\n",
              "      <td>0.912</td>\n",
              "      <td>0.912</td>\n",
              "    </tr>\n",
              "    <tr>\n",
              "      <th>77</th>\n",
              "      <td>0.000</td>\n",
              "      <td>1.000</td>\n",
              "      <td>1.000</td>\n",
              "      <td>1.602</td>\n",
              "      <td>0.913</td>\n",
              "      <td>0.913</td>\n",
              "    </tr>\n",
              "  </tbody>\n",
              "</table>\n",
              "</div>\n",
              "      <button class=\"colab-df-convert\" onclick=\"convertToInteractive('df-c97af6ea-66d2-4453-8479-adc80562bd62')\"\n",
              "              title=\"Convert this dataframe to an interactive table.\"\n",
              "              style=\"display:none;\">\n",
              "        \n",
              "  <svg xmlns=\"http://www.w3.org/2000/svg\" height=\"24px\"viewBox=\"0 0 24 24\"\n",
              "       width=\"24px\">\n",
              "    <path d=\"M0 0h24v24H0V0z\" fill=\"none\"/>\n",
              "    <path d=\"M18.56 5.44l.94 2.06.94-2.06 2.06-.94-2.06-.94-.94-2.06-.94 2.06-2.06.94zm-11 1L8.5 8.5l.94-2.06 2.06-.94-2.06-.94L8.5 2.5l-.94 2.06-2.06.94zm10 10l.94 2.06.94-2.06 2.06-.94-2.06-.94-.94-2.06-.94 2.06-2.06.94z\"/><path d=\"M17.41 7.96l-1.37-1.37c-.4-.4-.92-.59-1.43-.59-.52 0-1.04.2-1.43.59L10.3 9.45l-7.72 7.72c-.78.78-.78 2.05 0 2.83L4 21.41c.39.39.9.59 1.41.59.51 0 1.02-.2 1.41-.59l7.78-7.78 2.81-2.81c.8-.78.8-2.07 0-2.86zM5.41 20L4 18.59l7.72-7.72 1.47 1.35L5.41 20z\"/>\n",
              "  </svg>\n",
              "      </button>\n",
              "      \n",
              "  <style>\n",
              "    .colab-df-container {\n",
              "      display:flex;\n",
              "      flex-wrap:wrap;\n",
              "      gap: 12px;\n",
              "    }\n",
              "\n",
              "    .colab-df-convert {\n",
              "      background-color: #E8F0FE;\n",
              "      border: none;\n",
              "      border-radius: 50%;\n",
              "      cursor: pointer;\n",
              "      display: none;\n",
              "      fill: #1967D2;\n",
              "      height: 32px;\n",
              "      padding: 0 0 0 0;\n",
              "      width: 32px;\n",
              "    }\n",
              "\n",
              "    .colab-df-convert:hover {\n",
              "      background-color: #E2EBFA;\n",
              "      box-shadow: 0px 1px 2px rgba(60, 64, 67, 0.3), 0px 1px 3px 1px rgba(60, 64, 67, 0.15);\n",
              "      fill: #174EA6;\n",
              "    }\n",
              "\n",
              "    [theme=dark] .colab-df-convert {\n",
              "      background-color: #3B4455;\n",
              "      fill: #D2E3FC;\n",
              "    }\n",
              "\n",
              "    [theme=dark] .colab-df-convert:hover {\n",
              "      background-color: #434B5C;\n",
              "      box-shadow: 0px 1px 3px 1px rgba(0, 0, 0, 0.15);\n",
              "      filter: drop-shadow(0px 1px 2px rgba(0, 0, 0, 0.3));\n",
              "      fill: #FFFFFF;\n",
              "    }\n",
              "  </style>\n",
              "\n",
              "      <script>\n",
              "        const buttonEl =\n",
              "          document.querySelector('#df-c97af6ea-66d2-4453-8479-adc80562bd62 button.colab-df-convert');\n",
              "        buttonEl.style.display =\n",
              "          google.colab.kernel.accessAllowed ? 'block' : 'none';\n",
              "\n",
              "        async function convertToInteractive(key) {\n",
              "          const element = document.querySelector('#df-c97af6ea-66d2-4453-8479-adc80562bd62');\n",
              "          const dataTable =\n",
              "            await google.colab.kernel.invokeFunction('convertToInteractive',\n",
              "                                                     [key], {});\n",
              "          if (!dataTable) return;\n",
              "\n",
              "          const docLinkHtml = 'Like what you see? Visit the ' +\n",
              "            '<a target=\"_blank\" href=https://colab.research.google.com/notebooks/data_table.ipynb>data table notebook</a>'\n",
              "            + ' to learn more about interactive tables.';\n",
              "          element.innerHTML = '';\n",
              "          dataTable['output_type'] = 'display_data';\n",
              "          await google.colab.output.renderOutput(dataTable, element);\n",
              "          const docLink = document.createElement('div');\n",
              "          docLink.innerHTML = docLinkHtml;\n",
              "          element.appendChild(docLink);\n",
              "        }\n",
              "      </script>\n",
              "    </div>\n",
              "  </div>\n",
              "  "
            ],
            "text/plain": [
              "    loss  accuracy  recall  val_loss  val_accuracy  val_recall\n",
              "62 0.001     1.000   1.000     1.449         0.915       0.915\n",
              "63 0.000     1.000   1.000     1.475         0.914       0.914\n",
              "64 0.002     0.999   0.999     1.525         0.910       0.910\n",
              "65 0.001     1.000   1.000     1.455         0.910       0.910\n",
              "66 0.001     1.000   1.000     1.578         0.908       0.908\n",
              "67 0.003     0.999   0.999     1.551         0.905       0.905\n",
              "68 0.002     1.000   1.000     1.425         0.913       0.913\n",
              "69 0.001     1.000   1.000     1.444         0.914       0.913\n",
              "70 0.002     1.000   1.000     1.371         0.910       0.910\n",
              "71 0.002     0.999   0.999     1.645         0.911       0.911\n",
              "72 0.003     0.999   0.999     1.533         0.910       0.910\n",
              "73 0.001     1.000   1.000     1.557         0.910       0.910\n",
              "74 0.000     1.000   1.000     1.602         0.914       0.914\n",
              "75 0.001     1.000   1.000     1.501         0.911       0.911\n",
              "76 0.001     1.000   1.000     1.619         0.912       0.912\n",
              "77 0.000     1.000   1.000     1.602         0.913       0.913"
            ]
          },
          "execution_count": 48,
          "metadata": {},
          "output_type": "execute_result"
        }
      ],
      "source": [
        "history_df = pd.DataFrame(history[-1].history.history)\n",
        "history_df.index += 1\n",
        "history_df.tail(16)"
      ]
    },
    {
      "cell_type": "code",
      "execution_count": null,
      "metadata": {
        "id": "r9y85QlaJbzq"
      },
      "outputs": [],
      "source": [
        "# save model permanently and check\n",
        "# model.save_weights('first_try.h5')\n",
        "pipe_cnn1[-1].save('/content/drive/MyDrive/fashion_mnist1.h5')"
      ]
    },
    {
      "cell_type": "markdown",
      "metadata": {
        "id": "WzSqumrP9aOk"
      },
      "source": [
        "**TASK 7: Plot values of metrics you used in your model.**"
      ]
    },
    {
      "cell_type": "code",
      "execution_count": null,
      "metadata": {
        "colab": {
          "base_uri": "https://localhost:8080/"
        },
        "id": "vfFA217IOxwC",
        "outputId": "65c3979d-b2bb-403e-a2e2-d9b34fea0d8a"
      },
      "outputs": [
        {
          "data": {
            "text/plain": [
              "['loss', 'accuracy', 'recall']"
            ]
          },
          "execution_count": 50,
          "metadata": {},
          "output_type": "execute_result"
        }
      ],
      "source": [
        "pipe_cnn1[-1].metrics_names"
      ]
    },
    {
      "cell_type": "code",
      "execution_count": null,
      "metadata": {
        "colab": {
          "base_uri": "https://localhost:8080/",
          "height": 428
        },
        "id": "OYVM1nMeO2vV",
        "outputId": "343ae9c4-0b01-43ac-c772-4dc64a34cae8"
      },
      "outputs": [
        {
          "data": {
            "image/png": "[encoded data removed]",
            "text/plain": [
              "<Figure size 1296x504 with 2 Axes>"
            ]
          },
          "metadata": {},
          "output_type": "display_data"
        }
      ],
      "source": [
        "# Plot training results\n",
        "plot_history(history)"
      ]
    },
    {
      "cell_type": "markdown",
      "metadata": {
        "id": "PLoNQNLtPXD5"
      },
      "source": [
        "# Modelling-2"
      ]
    },
    {
      "cell_type": "code",
      "execution_count": null,
      "metadata": {
        "colab": {
          "base_uri": "https://localhost:8080/"
        },
        "id": "bCj4MJ7NtrNV",
        "outputId": "fc27cad3-faf9-4876-b9bf-a931609bf6d1"
      },
      "outputs": [
        {
          "name": "stdout",
          "output_type": "stream",
          "text": [
            "Model Defined Shape:  (60000, 28, 28, 1) (28, 28, 1)\n"
          ]
        }
      ],
      "source": [
        "print(\"Model Defined Shape: \", X_train.shape, image_shape)        # Input Layer Shape\n",
        "\n",
        "# way-1\n",
        "def build_classifier_model(\n",
        "        input_shape: int = X_train.shape[1:],\n",
        "        units:int      = 128,\n",
        ") -> tf.keras.models.Model:    \n",
        "    import tensorflow as tf    \n",
        "    \n",
        "    model = Sequential()\n",
        "    model.add(Conv2D(filters=64, kernel_size=(4,4), strides=(1,1), activation='relu', input_shape=input_shape))\n",
        "    model.add(BatchNormalization())\n",
        "    model.add(Dropout(0.1))\n",
        "    model.add(MaxPooling2D(pool_size=(2, 2), strides=(1,1)))\n",
        "    model.add(BatchNormalization())\n",
        "\n",
        "    model.add(Conv2D(filters=64, kernel_size=(4,4), strides=(1,1), activation='relu'))\n",
        "    model.add(BatchNormalization())\n",
        "    model.add(Dropout(0.1))\n",
        "    model.add(MaxPooling2D(pool_size=(2, 2), strides=(1,1)))\n",
        "    model.add(BatchNormalization())\n",
        "\n",
        "    model.add(Conv2D(filters=128, kernel_size=(3,3), strides=(1,1), activation='relu'))\n",
        "    model.add(BatchNormalization())\n",
        "    model.add(Dropout(0.1))\n",
        "    model.add(MaxPooling2D(pool_size=(2, 2), strides=(1,1)))\n",
        "    model.add(BatchNormalization())\n",
        "\n",
        "    model.add(Conv2D(filters=256, kernel_size=(3,3), strides=(1,1), activation='relu'))\n",
        "    model.add(BatchNormalization())\n",
        "    model.add(Dropout(0.1))\n",
        "\n",
        "    model.add(Flatten())\n",
        "    model.add(BatchNormalization())\n",
        "    model.add(Dense(128, activation='relu'))\n",
        "    model.add(BatchNormalization())\n",
        "    model.add(Dropout(0.1))\n",
        "\n",
        "    model.add(Dense(64, activation='relu'))\n",
        "    model.add(BatchNormalization())\n",
        "    model.add(Dropout(0.1))\n",
        "\n",
        "    model.add(Dense(10, activation='softmax'))\n",
        "    \n",
        "    model.compile(optimizer = \"rmsprop\", \n",
        "                  loss = 'categorical_crossentropy', \n",
        "                  metrics = ['accuracy', 'Recall'], \n",
        "                  # weighted_metrics=['Recall']\n",
        "                  )\n",
        "    return model"
      ]
    },
    {
      "cell_type": "code",
      "execution_count": null,
      "metadata": {
        "colab": {
          "base_uri": "https://localhost:8080/",
          "height": 1000
        },
        "id": "StUj9uGnvFeT",
        "outputId": "f5306119-e0bd-432a-e9f7-529f938c489d"
      },
      "outputs": [
        {
          "name": "stdout",
          "output_type": "stream",
          "text": [
            "Model: \"sequential\"\n",
            "_________________________________________________________________\n",
            " Layer (type)                Output Shape              Param #   \n",
            "=================================================================\n",
            " conv2d (Conv2D)             (None, 25, 25, 64)        1088      \n",
            "                                                                 \n",
            " batch_normalization (BatchN  (None, 25, 25, 64)       256       \n",
            " ormalization)                                                   \n",
            "                                                                 \n",
            " dropout (Dropout)           (None, 25, 25, 64)        0         \n",
            "                                                                 \n",
            " max_pooling2d (MaxPooling2D  (None, 24, 24, 64)       0         \n",
            " )                                                               \n",
            "                                                                 \n",
            " batch_normalization_1 (Batc  (None, 24, 24, 64)       256       \n",
            " hNormalization)                                                 \n",
            "                                                                 \n",
            " conv2d_1 (Conv2D)           (None, 21, 21, 64)        65600     \n",
            "                                                                 \n",
            " batch_normalization_2 (Batc  (None, 21, 21, 64)       256       \n",
            " hNormalization)                                                 \n",
            "                                                                 \n",
            " dropout_1 (Dropout)         (None, 21, 21, 64)        0         \n",
            "                                                                 \n",
            " max_pooling2d_1 (MaxPooling  (None, 20, 20, 64)       0         \n",
            " 2D)                                                             \n",
            "                                                                 \n",
            " batch_normalization_3 (Batc  (None, 20, 20, 64)       256       \n",
            " hNormalization)                                                 \n",
            "                                                                 \n",
            " conv2d_2 (Conv2D)           (None, 18, 18, 128)       73856     \n",
            "                                                                 \n",
            " batch_normalization_4 (Batc  (None, 18, 18, 128)      512       \n",
            " hNormalization)                                                 \n",
            "                                                                 \n",
            " dropout_2 (Dropout)         (None, 18, 18, 128)       0         \n",
            "                                                                 \n",
            " max_pooling2d_2 (MaxPooling  (None, 17, 17, 128)      0         \n",
            " 2D)                                                             \n",
            "                                                                 \n",
            " batch_normalization_5 (Batc  (None, 17, 17, 128)      512       \n",
            " hNormalization)                                                 \n",
            "                                                                 \n",
            " conv2d_3 (Conv2D)           (None, 15, 15, 256)       295168    \n",
            "                                                                 \n",
            " batch_normalization_6 (Batc  (None, 15, 15, 256)      1024      \n",
            " hNormalization)                                                 \n",
            "                                                                 \n",
            " dropout_3 (Dropout)         (None, 15, 15, 256)       0         \n",
            "                                                                 \n",
            " flatten (Flatten)           (None, 57600)             0         \n",
            "                                                                 \n",
            " batch_normalization_7 (Batc  (None, 57600)            230400    \n",
            " hNormalization)                                                 \n",
            "                                                                 \n",
            " dense (Dense)               (None, 128)               7372928   \n",
            "                                                                 \n",
            " batch_normalization_8 (Batc  (None, 128)              512       \n",
            " hNormalization)                                                 \n",
            "                                                                 \n",
            " dropout_4 (Dropout)         (None, 128)               0         \n",
            "                                                                 \n",
            " dense_1 (Dense)             (None, 64)                8256      \n",
            "                                                                 \n",
            " batch_normalization_9 (Batc  (None, 64)               256       \n",
            " hNormalization)                                                 \n",
            "                                                                 \n",
            " dropout_5 (Dropout)         (None, 64)                0         \n",
            "                                                                 \n",
            " dense_2 (Dense)             (None, 10)                650       \n",
            "                                                                 \n",
            "=================================================================\n",
            "Total params: 8,051,786\n",
            "Trainable params: 7,934,666\n",
            "Non-trainable params: 117,120\n",
            "_________________________________________________________________\n"
          ]
        },
        {
          "data": {
            "text/plain": [
              "None"
            ]
          },
          "metadata": {},
          "output_type": "display_data"
        },
        {
          "data": {
            "text/plain": [
              "Pipeline(steps=[('cnn',\n",
              "                 <keras.engine.sequential.Sequential object at 0x7f7335f4b9d0>)])"
            ]
          },
          "execution_count": 53,
          "metadata": {},
          "output_type": "execute_result"
        }
      ],
      "source": [
        "tf.keras.backend.clear_session()\n",
        "\n",
        "model = build_classifier_model()\n",
        "display(model.summary())\n",
        "\n",
        "pipe_cnn2 = Pipeline([\n",
        "    (\"cnn\", model)\n",
        "])\n",
        "pipe_cnn2"
      ]
    },
    {
      "cell_type": "code",
      "execution_count": null,
      "metadata": {
        "id": "I9bCS_87vk1u"
      },
      "outputs": [],
      "source": [
        "early_stop = EarlyStopping(monitor='val_loss', mode=\"min\",\n",
        "                           verbose = 1, patience = 5, restore_best_weights = True)"
      ]
    },
    {
      "cell_type": "code",
      "execution_count": null,
      "metadata": {
        "colab": {
          "base_uri": "https://localhost:8080/"
        },
        "id": "2W1E2636vsBc",
        "outputId": "dc529036-1133-4c3d-88d5-c397a855275e"
      },
      "outputs": [
        {
          "name": "stdout",
          "output_type": "stream",
          "text": [
            "Restoring model weights from the end of the best epoch: 8.\n",
            "Epoch 13: early stopping\n",
            "CPU times: user 6min 19s, sys: 10.4 s, total: 6min 29s\n",
            "Wall time: 6min 19s\n"
          ]
        }
      ],
      "source": [
        "%%time\n",
        "history = pipe_cnn2.fit(X = X_train, y = Y_train, cnn__validation_data = (X_test,Y_test), #cnn__validation_split = 0.1,\n",
        "                    cnn__batch_size = 32, cnn__epochs = 1000, cnn__verbose = 0, cnn__callbacks=[early_stop], cnn__class_weight=class_weights)"
      ]
    },
    {
      "cell_type": "code",
      "execution_count": null,
      "metadata": {
        "colab": {
          "base_uri": "https://localhost:8080/",
          "height": 238
        },
        "id": "WhNpVp7WzVz4",
        "outputId": "03b57c8e-77fd-410e-9861-e1caaa669598"
      },
      "outputs": [
        {
          "data": {
            "text/html": [
              "\n",
              "  <div id=\"df-d5d3f01b-e5d9-4a97-91d6-6c723bbd0c85\">\n",
              "    <div class=\"colab-df-container\">\n",
              "      <div>\n",
              "<style scoped>\n",
              "    .dataframe tbody tr th:only-of-type {\n",
              "        vertical-align: middle;\n",
              "    }\n",
              "\n",
              "    .dataframe tbody tr th {\n",
              "        vertical-align: top;\n",
              "    }\n",
              "\n",
              "    .dataframe thead th {\n",
              "        text-align: right;\n",
              "    }\n",
              "</style>\n",
              "<table border=\"1\" class=\"dataframe\">\n",
              "  <thead>\n",
              "    <tr style=\"text-align: right;\">\n",
              "      <th></th>\n",
              "      <th>loss</th>\n",
              "      <th>accuracy</th>\n",
              "      <th>recall</th>\n",
              "      <th>val_loss</th>\n",
              "      <th>val_accuracy</th>\n",
              "      <th>val_recall</th>\n",
              "    </tr>\n",
              "  </thead>\n",
              "  <tbody>\n",
              "    <tr>\n",
              "      <th>8</th>\n",
              "      <td>0.162</td>\n",
              "      <td>0.940</td>\n",
              "      <td>0.934</td>\n",
              "      <td>0.226</td>\n",
              "      <td>0.926</td>\n",
              "      <td>0.922</td>\n",
              "    </tr>\n",
              "    <tr>\n",
              "      <th>9</th>\n",
              "      <td>0.148</td>\n",
              "      <td>0.947</td>\n",
              "      <td>0.941</td>\n",
              "      <td>0.258</td>\n",
              "      <td>0.914</td>\n",
              "      <td>0.911</td>\n",
              "    </tr>\n",
              "    <tr>\n",
              "      <th>10</th>\n",
              "      <td>0.134</td>\n",
              "      <td>0.951</td>\n",
              "      <td>0.947</td>\n",
              "      <td>0.255</td>\n",
              "      <td>0.921</td>\n",
              "      <td>0.918</td>\n",
              "    </tr>\n",
              "    <tr>\n",
              "      <th>11</th>\n",
              "      <td>0.122</td>\n",
              "      <td>0.956</td>\n",
              "      <td>0.952</td>\n",
              "      <td>0.263</td>\n",
              "      <td>0.923</td>\n",
              "      <td>0.920</td>\n",
              "    </tr>\n",
              "    <tr>\n",
              "      <th>12</th>\n",
              "      <td>0.112</td>\n",
              "      <td>0.960</td>\n",
              "      <td>0.956</td>\n",
              "      <td>0.366</td>\n",
              "      <td>0.901</td>\n",
              "      <td>0.900</td>\n",
              "    </tr>\n",
              "    <tr>\n",
              "      <th>13</th>\n",
              "      <td>0.104</td>\n",
              "      <td>0.963</td>\n",
              "      <td>0.960</td>\n",
              "      <td>0.276</td>\n",
              "      <td>0.926</td>\n",
              "      <td>0.923</td>\n",
              "    </tr>\n",
              "  </tbody>\n",
              "</table>\n",
              "</div>\n",
              "      <button class=\"colab-df-convert\" onclick=\"convertToInteractive('df-d5d3f01b-e5d9-4a97-91d6-6c723bbd0c85')\"\n",
              "              title=\"Convert this dataframe to an interactive table.\"\n",
              "              style=\"display:none;\">\n",
              "        \n",
              "  <svg xmlns=\"http://www.w3.org/2000/svg\" height=\"24px\"viewBox=\"0 0 24 24\"\n",
              "       width=\"24px\">\n",
              "    <path d=\"M0 0h24v24H0V0z\" fill=\"none\"/>\n",
              "    <path d=\"M18.56 5.44l.94 2.06.94-2.06 2.06-.94-2.06-.94-.94-2.06-.94 2.06-2.06.94zm-11 1L8.5 8.5l.94-2.06 2.06-.94-2.06-.94L8.5 2.5l-.94 2.06-2.06.94zm10 10l.94 2.06.94-2.06 2.06-.94-2.06-.94-.94-2.06-.94 2.06-2.06.94z\"/><path d=\"M17.41 7.96l-1.37-1.37c-.4-.4-.92-.59-1.43-.59-.52 0-1.04.2-1.43.59L10.3 9.45l-7.72 7.72c-.78.78-.78 2.05 0 2.83L4 21.41c.39.39.9.59 1.41.59.51 0 1.02-.2 1.41-.59l7.78-7.78 2.81-2.81c.8-.78.8-2.07 0-2.86zM5.41 20L4 18.59l7.72-7.72 1.47 1.35L5.41 20z\"/>\n",
              "  </svg>\n",
              "      </button>\n",
              "      \n",
              "  <style>\n",
              "    .colab-df-container {\n",
              "      display:flex;\n",
              "      flex-wrap:wrap;\n",
              "      gap: 12px;\n",
              "    }\n",
              "\n",
              "    .colab-df-convert {\n",
              "      background-color: #E8F0FE;\n",
              "      border: none;\n",
              "      border-radius: 50%;\n",
              "      cursor: pointer;\n",
              "      display: none;\n",
              "      fill: #1967D2;\n",
              "      height: 32px;\n",
              "      padding: 0 0 0 0;\n",
              "      width: 32px;\n",
              "    }\n",
              "\n",
              "    .colab-df-convert:hover {\n",
              "      background-color: #E2EBFA;\n",
              "      box-shadow: 0px 1px 2px rgba(60, 64, 67, 0.3), 0px 1px 3px 1px rgba(60, 64, 67, 0.15);\n",
              "      fill: #174EA6;\n",
              "    }\n",
              "\n",
              "    [theme=dark] .colab-df-convert {\n",
              "      background-color: #3B4455;\n",
              "      fill: #D2E3FC;\n",
              "    }\n",
              "\n",
              "    [theme=dark] .colab-df-convert:hover {\n",
              "      background-color: #434B5C;\n",
              "      box-shadow: 0px 1px 3px 1px rgba(0, 0, 0, 0.15);\n",
              "      filter: drop-shadow(0px 1px 2px rgba(0, 0, 0, 0.3));\n",
              "      fill: #FFFFFF;\n",
              "    }\n",
              "  </style>\n",
              "\n",
              "      <script>\n",
              "        const buttonEl =\n",
              "          document.querySelector('#df-d5d3f01b-e5d9-4a97-91d6-6c723bbd0c85 button.colab-df-convert');\n",
              "        buttonEl.style.display =\n",
              "          google.colab.kernel.accessAllowed ? 'block' : 'none';\n",
              "\n",
              "        async function convertToInteractive(key) {\n",
              "          const element = document.querySelector('#df-d5d3f01b-e5d9-4a97-91d6-6c723bbd0c85');\n",
              "          const dataTable =\n",
              "            await google.colab.kernel.invokeFunction('convertToInteractive',\n",
              "                                                     [key], {});\n",
              "          if (!dataTable) return;\n",
              "\n",
              "          const docLinkHtml = 'Like what you see? Visit the ' +\n",
              "            '<a target=\"_blank\" href=https://colab.research.google.com/notebooks/data_table.ipynb>data table notebook</a>'\n",
              "            + ' to learn more about interactive tables.';\n",
              "          element.innerHTML = '';\n",
              "          dataTable['output_type'] = 'display_data';\n",
              "          await google.colab.output.renderOutput(dataTable, element);\n",
              "          const docLink = document.createElement('div');\n",
              "          docLink.innerHTML = docLinkHtml;\n",
              "          element.appendChild(docLink);\n",
              "        }\n",
              "      </script>\n",
              "    </div>\n",
              "  </div>\n",
              "  "
            ],
            "text/plain": [
              "    loss  accuracy  recall  val_loss  val_accuracy  val_recall\n",
              "8  0.162     0.940   0.934     0.226         0.926       0.922\n",
              "9  0.148     0.947   0.941     0.258         0.914       0.911\n",
              "10 0.134     0.951   0.947     0.255         0.921       0.918\n",
              "11 0.122     0.956   0.952     0.263         0.923       0.920\n",
              "12 0.112     0.960   0.956     0.366         0.901       0.900\n",
              "13 0.104     0.963   0.960     0.276         0.926       0.923"
            ]
          },
          "execution_count": 56,
          "metadata": {},
          "output_type": "execute_result"
        }
      ],
      "source": [
        "history_df = pd.DataFrame(history[-1].history.history)\n",
        "history_df.index += 1\n",
        "history_df.tail(6)"
      ]
    },
    {
      "cell_type": "code",
      "execution_count": null,
      "metadata": {
        "id": "dxTB0AJ2RCqr"
      },
      "outputs": [],
      "source": [
        "# save model permanently and check\n",
        "pipe_cnn2[-1].save('/content/drive/MyDrive/fashion_mnist2.h5')"
      ]
    },
    {
      "cell_type": "code",
      "execution_count": null,
      "metadata": {
        "colab": {
          "base_uri": "https://localhost:8080/",
          "height": 428
        },
        "id": "XJEOFdEYRdG3",
        "outputId": "e0105209-66f5-4f36-e4a7-3e274d22e05a"
      },
      "outputs": [
        {
          "data": {
            "image/png": "[encoded data removed]",
            "text/plain": [
              "<Figure size 1296x504 with 2 Axes>"
            ]
          },
          "metadata": {},
          "output_type": "display_data"
        }
      ],
      "source": [
        "plot_history(history)"
      ]
    },
    {
      "cell_type": "markdown",
      "metadata": {
        "id": "zXRvZ_p-SdXh"
      },
      "source": [
        "# Compare and Select Models"
      ]
    },
    {
      "cell_type": "code",
      "execution_count": null,
      "metadata": {
        "colab": {
          "base_uri": "https://localhost:8080/",
          "height": 527
        },
        "id": "7KoP3b2AwVrv",
        "outputId": "47a6c5ca-8c07-4548-c856-9af617751746"
      },
      "outputs": [
        {
          "data": {
            "image/png": "[encoded data removed]",
            "text/plain": [
              "<Figure size 1008x720 with 3 Axes>"
            ]
          },
          "metadata": {},
          "output_type": "display_data"
        }
      ],
      "source": [
        "plot_metrics(pipe_cnn1, pipe_cnn1[-1].metrics_names)"
      ]
    },
    {
      "cell_type": "code",
      "execution_count": null,
      "metadata": {
        "colab": {
          "base_uri": "https://localhost:8080/",
          "height": 527
        },
        "id": "t8HZLYlZwc5r",
        "outputId": "77259178-2609-40a4-a5c9-bba47b75a3b2"
      },
      "outputs": [
        {
          "data": {
            "image/png": "[encoded data removed]",
            "text/plain": [
              "<Figure size 1008x720 with 3 Axes>"
            ]
          },
          "metadata": {},
          "output_type": "display_data"
        }
      ],
      "source": [
        "plot_metrics(pipe_cnn2, pipe_cnn2[-1].metrics_names)"
      ]
    },
    {
      "cell_type": "markdown",
      "metadata": {
        "id": "kVZtp-wN9aOl"
      },
      "source": [
        "## Model Evaluation\n",
        "\n",
        "**TASK 8: Show the accuracy,precision,recall,f1-score the model achieved on the x_test data set. Keep in mind, there are quite a few ways to do this, but we recommend following the same procedure we showed in the MNIST lecture.**\n",
        "\n",
        "- https://machinelearningmastery.com/how-to-calculate-precision-recall-f1-and-more-for-deep-learning-models/"
      ]
    },
    {
      "cell_type": "code",
      "execution_count": null,
      "metadata": {
        "id": "ZoVFnD9h1-RM"
      },
      "outputs": [],
      "source": [
        "# demonstration of calculating metrics for a neural network model using sklearn\n",
        "from sklearn.metrics import multilabel_confusion_matrix, confusion_matrix, ConfusionMatrixDisplay\n",
        "from sklearn.metrics import classification_report, roc_auc_score\n",
        "from sklearn.metrics import precision_score, recall_score, f1_score, accuracy_score, cohen_kappa_score"
      ]
    },
    {
      "cell_type": "code",
      "execution_count": null,
      "metadata": {
        "colab": {
          "base_uri": "https://localhost:8080/"
        },
        "id": "cf-VyaEbw9VE",
        "outputId": "54443be0-51dc-4d92-ba24-70bd95664b06"
      },
      "outputs": [
        {
          "data": {
            "text/plain": [
              "{'loss': 1.4492137432098389,\n",
              " 'accuracy': 0.9154999852180481,\n",
              " 'recall': 0.9154000282287598}"
            ]
          },
          "execution_count": 62,
          "metadata": {},
          "output_type": "execute_result"
        }
      ],
      "source": [
        "pipe_cnn1[-1].evaluate(\n",
        "    X_test, Y_test, \n",
        "    return_dict=True, verbose=0)"
      ]
    },
    {
      "cell_type": "code",
      "execution_count": null,
      "metadata": {
        "colab": {
          "base_uri": "https://localhost:8080/"
        },
        "id": "W6Amz8E8xQr9",
        "outputId": "95954ca4-7ae7-4b92-9569-fe1f7e504b5a"
      },
      "outputs": [
        {
          "data": {
            "text/plain": [
              "{'loss': 0.22601447999477386,\n",
              " 'accuracy': 0.9258000254631042,\n",
              " 'recall': 0.9218999743461609}"
            ]
          },
          "execution_count": 63,
          "metadata": {},
          "output_type": "execute_result"
        }
      ],
      "source": [
        "pipe_cnn2[-1].evaluate(\n",
        "    X_test, Y_test, \n",
        "    return_dict=True, verbose=0)"
      ]
    },
    {
      "cell_type": "code",
      "execution_count": null,
      "metadata": {
        "colab": {
          "base_uri": "https://localhost:8080/"
        },
        "id": "bJDVCexX0tkM",
        "outputId": "41a266a2-9686-41dd-c8ff-964e483f5f09"
      },
      "outputs": [
        {
          "data": {
            "text/plain": [
              "((10000, 10), (60000, 10))"
            ]
          },
          "execution_count": 64,
          "metadata": {},
          "output_type": "execute_result"
        }
      ],
      "source": [
        "# predict probabilities \n",
        "y_pred_prob_test  = pipe_cnn2.predict(X_test, verbose=0)\n",
        "y_pred_prob_train = pipe_cnn2.predict(X_train, verbose=0)\n",
        "\n",
        "y_pred_prob_test.shape, y_pred_prob_train.shape"
      ]
    },
    {
      "cell_type": "code",
      "execution_count": null,
      "metadata": {
        "colab": {
          "base_uri": "https://localhost:8080/"
        },
        "id": "mKFAXNbQ1kK6",
        "outputId": "09d72214-c860-4b2f-ea66-28459aeec6f6"
      },
      "outputs": [
        {
          "data": {
            "text/plain": [
              "((10000,), (60000,))"
            ]
          },
          "execution_count": 65,
          "metadata": {},
          "output_type": "execute_result"
        }
      ],
      "source": [
        "# predict crisp classes \n",
        "y_pred_test  = np.argmax(pipe_cnn2.predict(X_test, verbose=0), axis=1)\n",
        "y_pred_train = np.argmax(pipe_cnn2.predict(X_train, verbose=0), axis=1)\n",
        "\n",
        "y_pred_test.shape, y_pred_train.shape"
      ]
    },
    {
      "cell_type": "code",
      "execution_count": null,
      "metadata": {
        "colab": {
          "base_uri": "https://localhost:8080/"
        },
        "id": "8I_ggswy1huU",
        "outputId": "b5f80aa9-8c58-489c-f663-f1696394203f"
      },
      "outputs": [
        {
          "name": "stdout",
          "output_type": "stream",
          "text": [
            "Accuracy: 0.925800\n",
            "Precision: 0.926935\n",
            "Recall: 0.925800\n",
            "F1 score: 0.926160\n"
          ]
        }
      ],
      "source": [
        "# accuracy: (tp + tn) / (p + n)\n",
        "accuracy = accuracy_score(y_test, y_pred_test)\n",
        "print('Accuracy: %f' % accuracy)\n",
        "# precision tp / (tp + fp)\n",
        "precision = precision_score(y_test, y_pred_test, average='weighted')\n",
        "print('Precision: %f' % precision)\n",
        "# recall: tp / (tp + fn)\n",
        "recall = recall_score(y_test, y_pred_test, average='weighted')\n",
        "print('Recall: %f' % recall)\n",
        "# f1: 2 tp / (2 tp + fp + fn)\n",
        "f1 = f1_score(y_test, y_pred_test, average='weighted')\n",
        "print('F1 score: %f' % f1)"
      ]
    },
    {
      "cell_type": "code",
      "execution_count": null,
      "metadata": {
        "colab": {
          "base_uri": "https://localhost:8080/"
        },
        "id": "XShcgYNLAa0V",
        "outputId": "50dbf633-a347-4f53-b235-3c24859ba7fd"
      },
      "outputs": [
        {
          "name": "stdout",
          "output_type": "stream",
          "text": [
            "Cohens kappa: 0.917556\n",
            "ROC AUC: 0.995419\n"
          ]
        }
      ],
      "source": [
        "# kappa\n",
        "kappa = cohen_kappa_score(y_test, y_pred_test)\n",
        "print('Cohens kappa: %f' % kappa)\n",
        "# ROC AUC\n",
        "auc = roc_auc_score(y_test, y_pred_prob_test, multi_class='ovr')\n",
        "print('ROC AUC: %f' % auc)"
      ]
    },
    {
      "cell_type": "code",
      "execution_count": null,
      "metadata": {
        "colab": {
          "base_uri": "https://localhost:8080/"
        },
        "id": "_jnvyPaJQgIx",
        "outputId": "e811b868-b3fd-4932-8a43-4aaa988cb454"
      },
      "outputs": [
        {
          "name": "stdout",
          "output_type": "stream",
          "text": [
            "['T-shirt/top', 'Trouser', 'Pullover', 'Dress', 'Coat', 'Sandal', 'Shirt', 'Sneaker', 'Bag', 'Ankle boot']\n"
          ]
        }
      ],
      "source": [
        "print(classes)"
      ]
    },
    {
      "cell_type": "code",
      "execution_count": null,
      "metadata": {
        "colab": {
          "base_uri": "https://localhost:8080/",
          "height": 731
        },
        "id": "LEvmIFCiBxdE",
        "outputId": "a6097db3-9491-4e65-c3e9-7ed740933ed2"
      },
      "outputs": [
        {
          "data": {
            "text/plain": [
              "<matplotlib.colorbar.Colorbar at 0x7f733515d2e0>"
            ]
          },
          "execution_count": 69,
          "metadata": {},
          "output_type": "execute_result"
        },
        {
          "data": {
            "image/png": "[encoded data removed]",
            "text/plain": [
              "<Figure size 864x864 with 2 Axes>"
            ]
          },
          "metadata": {},
          "output_type": "display_data"
        }
      ],
      "source": [
        "from sklearn.metrics import multilabel_confusion_matrix, confusion_matrix, ConfusionMatrixDisplay\n",
        "\n",
        "cm = confusion_matrix(\n",
        "    y_test, y_pred_test,\n",
        "    # labels=classes\n",
        ")\n",
        "\n",
        "cmp = ConfusionMatrixDisplay(\n",
        "    confusion_matrix=cm, \n",
        "    display_labels=classes\n",
        ")\n",
        "\n",
        "fig, ax = plt.subplots(figsize=(12, 12))\n",
        "\n",
        "# Deactivate default colorbar\n",
        "cmp.plot(ax=ax, colorbar=False)\n",
        "plt.grid(False)\n",
        "\n",
        "# Adding custom colorbar\n",
        "cax = fig.add_axes([ax.get_position().x1+.01, ax.get_position().y0, .033, ax.get_position().height])\n",
        "plt.colorbar(cmp.im_, cax=cax)"
      ]
    },
    {
      "cell_type": "code",
      "execution_count": null,
      "metadata": {
        "colab": {
          "base_uri": "https://localhost:8080/",
          "height": 628
        },
        "id": "VavJeJ7yQcha",
        "outputId": "d96a3c42-1d08-4653-b417-8a2d9d517ae3"
      },
      "outputs": [
        {
          "data": {
            "image/png": "[encoded data removed]",
            "text/plain": [
              "<Figure size 1080x720 with 2 Axes>"
            ]
          },
          "metadata": {},
          "output_type": "display_data"
        }
      ],
      "source": [
        "plt.figure(figsize=(15,10))\n",
        "sns.heatmap(\n",
        "    confusion_matrix(y_test, y_pred_test), \n",
        "    annot=True, cmap=\"Blues\", lw=.5, linecolor='black', \n",
        "    fmt='g', annot_kws = {\"size\": 15}\n",
        ")\n",
        "plt.xticks(range(len(classes)), classes, rotation=35, ha='left');\n",
        "plt.yticks(range(len(classes)), classes, rotation=0, ha='right', va='baseline');"
      ]
    },
    {
      "cell_type": "code",
      "execution_count": null,
      "metadata": {
        "colab": {
          "base_uri": "https://localhost:8080/"
        },
        "id": "p8axG8iMK5d0",
        "outputId": "42fcb16a-d7d0-49de-cf19-aa753e2b8f83"
      },
      "outputs": [
        {
          "data": {
            "text/plain": [
              "742"
            ]
          },
          "execution_count": 71,
          "metadata": {},
          "output_type": "execute_result"
        }
      ],
      "source": [
        "(y_test != y_pred_test).sum()"
      ]
    },
    {
      "cell_type": "code",
      "execution_count": null,
      "metadata": {
        "colab": {
          "base_uri": "https://localhost:8080/"
        },
        "id": "4Gc2PO1sQb9l",
        "outputId": "19e7bd5e-d04a-438e-a063-a157620ba3bc"
      },
      "outputs": [
        {
          "name": "stdout",
          "output_type": "stream",
          "text": [
            "              precision    recall  f1-score   support\n",
            "\n",
            "           0       0.91      0.85      0.88      1000\n",
            "           1       0.99      0.98      0.99      1000\n",
            "           2       0.89      0.87      0.88      1000\n",
            "           3       0.93      0.93      0.93      1000\n",
            "           4       0.88      0.89      0.88      1000\n",
            "           5       0.99      0.99      0.99      1000\n",
            "           6       0.76      0.81      0.78      1000\n",
            "           7       0.97      0.97      0.97      1000\n",
            "           8       0.98      0.98      0.98      1000\n",
            "           9       0.98      0.97      0.97      1000\n",
            "\n",
            "    accuracy                           0.93     10000\n",
            "   macro avg       0.93      0.93      0.93     10000\n",
            "weighted avg       0.93      0.93      0.93     10000\n",
            "\n"
          ]
        }
      ],
      "source": [
        "print(classification_report(y_test, y_pred_test,))"
      ]
    },
    {
      "cell_type": "markdown",
      "metadata": {
        "id": "4p1-42yw9aOm"
      },
      "source": [
        "## Prediction"
      ]
    },
    {
      "cell_type": "code",
      "execution_count": null,
      "metadata": {
        "id": "NbN1Jtur9aOm"
      },
      "outputs": [],
      "source": [
        "model = tf.keras.models.load_model('/content/drive/MyDrive/fashion_mnist2.h5')"
      ]
    },
    {
      "cell_type": "code",
      "execution_count": null,
      "metadata": {
        "colab": {
          "base_uri": "https://localhost:8080/"
        },
        "id": "_-0_mNth9aOm",
        "outputId": "c9f2154c-b9fd-4bac-e7e4-a2e8a59eab2a"
      },
      "outputs": [
        {
          "data": {
            "text/plain": [
              "(28, 28, 1)"
            ]
          },
          "execution_count": 74,
          "metadata": {},
          "output_type": "execute_result"
        }
      ],
      "source": [
        "X_test[0].shape"
      ]
    },
    {
      "cell_type": "code",
      "execution_count": null,
      "metadata": {
        "colab": {
          "base_uri": "https://localhost:8080/"
        },
        "id": "pZ0SUuf1ka_E",
        "outputId": "01f1ebae-d58e-46db-a9ce-cea655e306ed"
      },
      "outputs": [
        {
          "data": {
            "text/plain": [
              "((1, 28, 28, 1), (1, 28, 28, 1))"
            ]
          },
          "execution_count": 75,
          "metadata": {},
          "output_type": "execute_result"
        }
      ],
      "source": [
        "np.expand_dims(X_test[0],axis=0).shape, X_test[0].reshape(1, 28, 28, 1).shape"
      ]
    },
    {
      "cell_type": "code",
      "execution_count": null,
      "metadata": {
        "colab": {
          "base_uri": "https://localhost:8080/"
        },
        "id": "piaVQTfgkaxm",
        "outputId": "1694b30d-dec9-4c6a-8e44-affd43075927"
      },
      "outputs": [
        {
          "name": "stdout",
          "output_type": "stream",
          "text": [
            "1/1 [==============================] - 0s 255ms/step\n"
          ]
        },
        {
          "data": {
            "text/plain": [
              "array([[9.5138262e-07, 3.6289778e-06, 2.4593643e-07, 2.8329498e-07,\n",
              "        1.0098020e-06, 1.5076815e-06, 2.0998725e-06, 2.9028957e-05,\n",
              "        5.9820884e-08, 9.9996114e-01]], dtype=float32)"
            ]
          },
          "execution_count": 76,
          "metadata": {},
          "output_type": "execute_result"
        }
      ],
      "source": [
        "pred_proba = model.predict(np.expand_dims(X_test[0], axis=0))\n",
        "pred_proba"
      ]
    },
    {
      "cell_type": "code",
      "execution_count": null,
      "metadata": {
        "colab": {
          "base_uri": "https://localhost:8080/"
        },
        "id": "XJDZOXnCki1G",
        "outputId": "d97da536-f1ca-4ebd-ed26-56df0e1f82d4"
      },
      "outputs": [
        {
          "data": {
            "text/plain": [
              "9"
            ]
          },
          "execution_count": 77,
          "metadata": {},
          "output_type": "execute_result"
        }
      ],
      "source": [
        "pred = np.argmax(pred_proba)\n",
        "pred"
      ]
    },
    {
      "cell_type": "code",
      "execution_count": null,
      "metadata": {
        "colab": {
          "base_uri": "https://localhost:8080/"
        },
        "id": "24p46Th5lHwV",
        "outputId": "51888304-6cd0-496d-d330-d49d7b9716e4"
      },
      "outputs": [
        {
          "data": {
            "text/plain": [
              "('Ankle boot', array(['Ankle boot'], dtype=object))"
            ]
          },
          "execution_count": 78,
          "metadata": {},
          "output_type": "execute_result"
        }
      ],
      "source": [
        "classes[pred], le.inverse_transform([pred])"
      ]
    },
    {
      "cell_type": "code",
      "execution_count": null,
      "metadata": {
        "colab": {
          "base_uri": "https://localhost:8080/"
        },
        "id": "2AJLNxxpsdzO",
        "outputId": "28cbebdb-6b39-49ba-a038-a1912a62c65a"
      },
      "outputs": [
        {
          "data": {
            "text/plain": [
              "((28, 28), (28, 28))"
            ]
          },
          "execution_count": 79,
          "metadata": {},
          "output_type": "execute_result"
        }
      ],
      "source": [
        "X_test[0].squeeze().shape, X_test[0].reshape(28, 28).shape"
      ]
    },
    {
      "cell_type": "code",
      "execution_count": null,
      "metadata": {
        "colab": {
          "base_uri": "https://localhost:8080/",
          "height": 391
        },
        "id": "p34kqx95klHP",
        "outputId": "28f9637b-f1b5-400a-abfe-08acc73494ce"
      },
      "outputs": [
        {
          "data": {
            "text/plain": [
              "<matplotlib.image.AxesImage at 0x7f733369f700>"
            ]
          },
          "execution_count": 81,
          "metadata": {},
          "output_type": "execute_result"
        },
        {
          "data": {
            "image/png": "[encoded data removed]",
            "text/plain": [
              "<Figure size 720x432 with 1 Axes>"
            ]
          },
          "metadata": {},
          "output_type": "display_data"
        }
      ],
      "source": [
        "plt.imshow(X_test[0].squeeze(), cmap=plt.cm.binary)"
      ]
    },
    {
      "cell_type": "markdown",
      "metadata": {
        "id": "YlAP0QAV9aOn"
      },
      "source": [
        "# End of Assignment"
      ]
    },
    {
      "cell_type": "markdown",
      "metadata": {
        "id": "wlPmOiTL9aOn"
      },
      "source": [
        "___\n",
        "\n",
        "<p style=\"text-align: center;\"><img src=\"https://docs.google.com/uc?id=1lY0Uj5R04yMY3-ZppPWxqCr5pvBLYPnV\" class=\"img-fluid\" alt=\"CLRSWY\"></p>\n",
        "\n",
        "___"
      ]
    }
  ],
  "metadata": {
    "accelerator": "GPU",
    "colab": {
      "provenance": []
    },
    "kernelspec": {
      "display_name": "Python 3",
      "language": "python",
      "name": "python3"
    },
    "language_info": {
      "codemirror_mode": {
        "name": "ipython",
        "version": 3
      },
      "file_extension": ".py",
      "mimetype": "text/x-python",
      "name": "python",
      "nbconvert_exporter": "python",
      "pygments_lexer": "ipython3",
      "version": "3.7.6"
    },
    "toc": {
      "base_numbering": 1,
      "nav_menu": {},
      "number_sections": false,
      "sideBar": true,
      "skip_h1_title": false,
      "title_cell": "Table of Contents",
      "title_sidebar": "Contents",
      "toc_cell": false,
      "toc_position": {},
      "toc_section_display": true,
      "toc_window_display": true
    }
  },
  "nbformat": 4,
  "nbformat_minor": 0
}
